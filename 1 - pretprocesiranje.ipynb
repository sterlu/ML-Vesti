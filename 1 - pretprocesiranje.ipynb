{
 "cells": [
  {
   "cell_type": "code",
   "execution_count": 1,
   "metadata": {
    "pycharm": {
     "name": "#%%\n"
    }
   },
   "outputs": [],
   "source": [
    "input_filename = \"podaci/novi_podaci/post_naslovi.input\"\n",
    "dataset_filename = input_filename + '.prepared'\n",
    "pretrained_model_name = 'gpt2'"
   ]
  },
  {
   "cell_type": "code",
   "execution_count": 13,
   "metadata": {
    "collapsed": true,
    "pycharm": {
     "name": "#%%\n"
    }
   },
   "outputs": [],
   "source": [
    "import re\n",
    "import alati\n",
    "\n",
    "input_file = open(input_filename, \"r\")\n",
    "output_file = open(dataset_filename, \"w\")\n",
    "\n",
    "skip_filter = re.compile(r'(^|[^\\w])(sunčano|kiša|oblačno|toplo|stepena|stepen|kišom|hladno|hladnije|stepeni|obilne padavine|toplije|sneg|ubije|ubil|poginu|silova|prebil|umrl|umro|preminu|mrtvi|dečak|devojčic|dete)', flags=re.I | re.M)\n",
    "\n",
    "for line in input_file:\n",
    "    line = alati.konvertuj_cirilicu(line)\n",
    "\n",
    "    if skip_filter.search(line):\n",
    "        continue\n",
    "\n",
    "    line = line.replace('ž', 'ž').replace('š', 'š').replace('&quot;', '\"').replace('&amp;', '&')\n",
    "    line = re.sub(r'^([\"”])*', '', line)\n",
    "    line = re.sub(r'([\"”])*$', '', line)\n",
    "    line = line.replace('– ', ' ') \\\n",
    "        .replace('- ', ' ') \\\n",
    "        .replace('​', ' ')\n",
    "        # .replace(': ', ' ') \\\n",
    "\n",
    "    line = line.replace('(KURIR TV)', '(VIDEO)').replace('KURIR TV', '')\n",
    "    re.sub('za (kurir|blic)', 'za Fleš', line, flags=re.I)\n",
    "    re.sub('uz (kurir|blic)', 'uz Fleš', line, flags=re.I)\n",
    "    re.sub(' (kurir|blic) vam ', ' Fleš vam ', line, flags=re.I)\n",
    "    re.sub('KURIR HOROSKOP', 'HOROSKOP', line, flags=re.I)\n",
    "\n",
    "    output_file.write(\"<s>\" + line.strip() + \" </s>\" + '\\n')\n",
    "\n",
    "input_file.close()\n",
    "output_file.close()"
   ]
  },
  {
   "cell_type": "code",
   "execution_count": 3,
   "metadata": {
    "pycharm": {
     "name": "#%%\n"
    }
   },
   "outputs": [],
   "source": [
    "from tokenizers import ByteLevelBPETokenizer\n",
    "from tokenizers import normalizers\n",
    "\n",
    "tokenizer = ByteLevelBPETokenizer(lowercase=False)\n",
    "tokenizer.normalizer = normalizers.Sequence([\n",
    "    # normalizers.Strip(),\n",
    "    normalizers.NFKC(),\n",
    "])\n",
    "tokenizer.train(\n",
    "    files=[dataset_filename],\n",
    "    min_frequency=20,\n",
    "    vocab_size=50000,\n",
    "    special_tokens=[\n",
    "        \"<s>\",\n",
    "        \"<pad>\",\n",
    "        \"</s>\",\n",
    "        # \"<unk>\",\n",
    "        # \"<mask>\",\n",
    "        # \"<|endoftext|>\",\n",
    "    ],\n",
    ")\n",
    "tokenizer.save('naslovi-tokenizer.json')"
   ]
  },
  {
   "cell_type": "code",
   "execution_count": 14,
   "outputs": [],
   "source": [
    "from tokenizers import normalizers, pre_tokenizers, models, trainers, Tokenizer\n",
    "\n",
    "model = models.WordLevel({}, '<unk>')\n",
    "trainer = trainers.WordLevelTrainer(\n",
    "    show_progress=True,\n",
    "    min_frequency=20,\n",
    "    vocab_size=50000,\n",
    "    special_tokens=[\n",
    "        \"<s>\",\n",
    "        \"<pad>\",\n",
    "        \"</s>\",\n",
    "        \"<unk>\",\n",
    "        # \"<mask>\",\n",
    "        # \"<|endoftext|>\",\n",
    "    ],\n",
    ")\n",
    "\n",
    "tokenizer = Tokenizer(model)\n",
    "tokenizer.pre_tokenizer = pre_tokenizers.Whitespace()\n",
    "tokenizer.normalizer = normalizers.Sequence([\n",
    "    # normalizers.Strip(),\n",
    "    normalizers.NFKC(),\n",
    "])\n",
    "tokenizer.train(\n",
    "    files=[dataset_filename],\n",
    "    trainer=trainer\n",
    ")\n",
    "tokenizer.save('naslovi-simple-tokenizer.json')"
   ],
   "metadata": {
    "collapsed": false,
    "pycharm": {
     "name": "#%%\n"
    }
   }
  }
 ],
 "metadata": {
  "kernelspec": {
   "display_name": "Python 3",
   "language": "python",
   "name": "python3"
  },
  "language_info": {
   "codemirror_mode": {
    "name": "ipython",
    "version": 3
   },
   "file_extension": ".py",
   "mimetype": "text/x-python",
   "name": "python",
   "nbconvert_exporter": "python",
   "pygments_lexer": "ipython3",
   "version": "3.9.5"
  }
 },
 "nbformat": 4,
 "nbformat_minor": 1
}