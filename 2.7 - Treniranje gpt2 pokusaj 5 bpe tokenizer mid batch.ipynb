{
  "nbformat": 4,
  "nbformat_minor": 0,
  "metadata": {
    "colab": {
      "name": "2.7 - Treniranje gpt2 pokusaj 5 bpe tokenizer mid batch",
      "provenance": [],
      "collapsed_sections": [],
      "machine_shape": "hm"
    },
    "kernelspec": {
      "name": "python3",
      "language": "python",
      "display_name": "Python 3"
    },
    "language_info": {
      "name": "python"
    },
    "accelerator": "GPU",
    "widgets": {
      "application/vnd.jupyter.widget-state+json": {
        "571043c05b2044c7873538df4fe28f67": {
          "model_module": "@jupyter-widgets/controls",
          "model_name": "HBoxModel",
          "state": {
            "_view_name": "HBoxView",
            "_dom_classes": [],
            "_model_name": "HBoxModel",
            "_view_module": "@jupyter-widgets/controls",
            "_model_module_version": "1.5.0",
            "_view_count": null,
            "_view_module_version": "1.5.0",
            "box_style": "",
            "layout": "IPY_MODEL_be78dfdb1e7449738c4f32b3083fdbce",
            "_model_module": "@jupyter-widgets/controls",
            "children": [
              "IPY_MODEL_a77ef07c23e64e449b0c4532dea14737",
              "IPY_MODEL_b693cfc2a9764b71989ce481e8a1e893"
            ]
          }
        },
        "be78dfdb1e7449738c4f32b3083fdbce": {
          "model_module": "@jupyter-widgets/base",
          "model_name": "LayoutModel",
          "state": {
            "_view_name": "LayoutView",
            "grid_template_rows": null,
            "right": null,
            "justify_content": null,
            "_view_module": "@jupyter-widgets/base",
            "overflow": null,
            "_model_module_version": "1.2.0",
            "_view_count": null,
            "flex_flow": null,
            "width": null,
            "min_width": null,
            "border": null,
            "align_items": null,
            "bottom": null,
            "_model_module": "@jupyter-widgets/base",
            "top": null,
            "grid_column": null,
            "overflow_y": null,
            "overflow_x": null,
            "grid_auto_flow": null,
            "grid_area": null,
            "grid_template_columns": null,
            "flex": null,
            "_model_name": "LayoutModel",
            "justify_items": null,
            "grid_row": null,
            "max_height": null,
            "align_content": null,
            "visibility": null,
            "align_self": null,
            "height": null,
            "min_height": null,
            "padding": null,
            "grid_auto_rows": null,
            "grid_gap": null,
            "max_width": null,
            "order": null,
            "_view_module_version": "1.2.0",
            "grid_template_areas": null,
            "object_position": null,
            "object_fit": null,
            "grid_auto_columns": null,
            "margin": null,
            "display": null,
            "left": null
          }
        },
        "a77ef07c23e64e449b0c4532dea14737": {
          "model_module": "@jupyter-widgets/controls",
          "model_name": "FloatProgressModel",
          "state": {
            "_view_name": "ProgressView",
            "style": "IPY_MODEL_c1cf1be2ac964147a0196bd3e6b0ef12",
            "_dom_classes": [],
            "description": "",
            "_model_name": "FloatProgressModel",
            "bar_style": "info",
            "max": 1,
            "_view_module": "@jupyter-widgets/controls",
            "_model_module_version": "1.5.0",
            "value": 1,
            "_view_count": null,
            "_view_module_version": "1.5.0",
            "orientation": "horizontal",
            "min": 0,
            "description_tooltip": null,
            "_model_module": "@jupyter-widgets/controls",
            "layout": "IPY_MODEL_ee6891bb2ceb494a8229240c6309c16f"
          }
        },
        "b693cfc2a9764b71989ce481e8a1e893": {
          "model_module": "@jupyter-widgets/controls",
          "model_name": "HTMLModel",
          "state": {
            "_view_name": "HTMLView",
            "style": "IPY_MODEL_f3edf309837242809fb33046e3d3b915",
            "_dom_classes": [],
            "description": "",
            "_model_name": "HTMLModel",
            "placeholder": "​",
            "_view_module": "@jupyter-widgets/controls",
            "_model_module_version": "1.5.0",
            "value": " 15/? [00:02&lt;00:00,  6.21 tables/s]",
            "_view_count": null,
            "_view_module_version": "1.5.0",
            "description_tooltip": null,
            "_model_module": "@jupyter-widgets/controls",
            "layout": "IPY_MODEL_9d2b282cc4c0493d9affc2ef679ed8b8"
          }
        },
        "c1cf1be2ac964147a0196bd3e6b0ef12": {
          "model_module": "@jupyter-widgets/controls",
          "model_name": "ProgressStyleModel",
          "state": {
            "_view_name": "StyleView",
            "_model_name": "ProgressStyleModel",
            "description_width": "initial",
            "_view_module": "@jupyter-widgets/base",
            "_model_module_version": "1.5.0",
            "_view_count": null,
            "_view_module_version": "1.2.0",
            "bar_color": null,
            "_model_module": "@jupyter-widgets/controls"
          }
        },
        "ee6891bb2ceb494a8229240c6309c16f": {
          "model_module": "@jupyter-widgets/base",
          "model_name": "LayoutModel",
          "state": {
            "_view_name": "LayoutView",
            "grid_template_rows": null,
            "right": null,
            "justify_content": null,
            "_view_module": "@jupyter-widgets/base",
            "overflow": null,
            "_model_module_version": "1.2.0",
            "_view_count": null,
            "flex_flow": null,
            "width": null,
            "min_width": null,
            "border": null,
            "align_items": null,
            "bottom": null,
            "_model_module": "@jupyter-widgets/base",
            "top": null,
            "grid_column": null,
            "overflow_y": null,
            "overflow_x": null,
            "grid_auto_flow": null,
            "grid_area": null,
            "grid_template_columns": null,
            "flex": null,
            "_model_name": "LayoutModel",
            "justify_items": null,
            "grid_row": null,
            "max_height": null,
            "align_content": null,
            "visibility": null,
            "align_self": null,
            "height": null,
            "min_height": null,
            "padding": null,
            "grid_auto_rows": null,
            "grid_gap": null,
            "max_width": null,
            "order": null,
            "_view_module_version": "1.2.0",
            "grid_template_areas": null,
            "object_position": null,
            "object_fit": null,
            "grid_auto_columns": null,
            "margin": null,
            "display": null,
            "left": null
          }
        },
        "f3edf309837242809fb33046e3d3b915": {
          "model_module": "@jupyter-widgets/controls",
          "model_name": "DescriptionStyleModel",
          "state": {
            "_view_name": "StyleView",
            "_model_name": "DescriptionStyleModel",
            "description_width": "",
            "_view_module": "@jupyter-widgets/base",
            "_model_module_version": "1.5.0",
            "_view_count": null,
            "_view_module_version": "1.2.0",
            "_model_module": "@jupyter-widgets/controls"
          }
        },
        "9d2b282cc4c0493d9affc2ef679ed8b8": {
          "model_module": "@jupyter-widgets/base",
          "model_name": "LayoutModel",
          "state": {
            "_view_name": "LayoutView",
            "grid_template_rows": null,
            "right": null,
            "justify_content": null,
            "_view_module": "@jupyter-widgets/base",
            "overflow": null,
            "_model_module_version": "1.2.0",
            "_view_count": null,
            "flex_flow": null,
            "width": null,
            "min_width": null,
            "border": null,
            "align_items": null,
            "bottom": null,
            "_model_module": "@jupyter-widgets/base",
            "top": null,
            "grid_column": null,
            "overflow_y": null,
            "overflow_x": null,
            "grid_auto_flow": null,
            "grid_area": null,
            "grid_template_columns": null,
            "flex": null,
            "_model_name": "LayoutModel",
            "justify_items": null,
            "grid_row": null,
            "max_height": null,
            "align_content": null,
            "visibility": null,
            "align_self": null,
            "height": null,
            "min_height": null,
            "padding": null,
            "grid_auto_rows": null,
            "grid_gap": null,
            "max_width": null,
            "order": null,
            "_view_module_version": "1.2.0",
            "grid_template_areas": null,
            "object_position": null,
            "object_fit": null,
            "grid_auto_columns": null,
            "margin": null,
            "display": null,
            "left": null
          }
        },
        "a64fc5652df4407ab8212a5cd6757f43": {
          "model_module": "@jupyter-widgets/controls",
          "model_name": "HBoxModel",
          "state": {
            "_view_name": "HBoxView",
            "_dom_classes": [],
            "_model_name": "HBoxModel",
            "_view_module": "@jupyter-widgets/controls",
            "_model_module_version": "1.5.0",
            "_view_count": null,
            "_view_module_version": "1.5.0",
            "box_style": "",
            "layout": "IPY_MODEL_77dc7e0958d84065b3a8760469799fdf",
            "_model_module": "@jupyter-widgets/controls",
            "children": [
              "IPY_MODEL_f598bf76844a4c65ab8ed6929a12189c",
              "IPY_MODEL_9960abbdd4234947a6161f3b2953b631"
            ]
          }
        },
        "77dc7e0958d84065b3a8760469799fdf": {
          "model_module": "@jupyter-widgets/base",
          "model_name": "LayoutModel",
          "state": {
            "_view_name": "LayoutView",
            "grid_template_rows": null,
            "right": null,
            "justify_content": null,
            "_view_module": "@jupyter-widgets/base",
            "overflow": null,
            "_model_module_version": "1.2.0",
            "_view_count": null,
            "flex_flow": null,
            "width": null,
            "min_width": null,
            "border": null,
            "align_items": null,
            "bottom": null,
            "_model_module": "@jupyter-widgets/base",
            "top": null,
            "grid_column": null,
            "overflow_y": null,
            "overflow_x": null,
            "grid_auto_flow": null,
            "grid_area": null,
            "grid_template_columns": null,
            "flex": null,
            "_model_name": "LayoutModel",
            "justify_items": null,
            "grid_row": null,
            "max_height": null,
            "align_content": null,
            "visibility": null,
            "align_self": null,
            "height": null,
            "min_height": null,
            "padding": null,
            "grid_auto_rows": null,
            "grid_gap": null,
            "max_width": null,
            "order": null,
            "_view_module_version": "1.2.0",
            "grid_template_areas": null,
            "object_position": null,
            "object_fit": null,
            "grid_auto_columns": null,
            "margin": null,
            "display": null,
            "left": null
          }
        },
        "f598bf76844a4c65ab8ed6929a12189c": {
          "model_module": "@jupyter-widgets/controls",
          "model_name": "FloatProgressModel",
          "state": {
            "_view_name": "ProgressView",
            "style": "IPY_MODEL_98634f06fbb0404d8129761a38aa7495",
            "_dom_classes": [],
            "description": " #0: 100%",
            "_model_name": "FloatProgressModel",
            "bar_style": "success",
            "max": 984352,
            "_view_module": "@jupyter-widgets/controls",
            "_model_module_version": "1.5.0",
            "value": 984352,
            "_view_count": null,
            "_view_module_version": "1.5.0",
            "orientation": "horizontal",
            "min": 0,
            "description_tooltip": null,
            "_model_module": "@jupyter-widgets/controls",
            "layout": "IPY_MODEL_add4f30c7ee5457d8b94374a698c7ed6"
          }
        },
        "9960abbdd4234947a6161f3b2953b631": {
          "model_module": "@jupyter-widgets/controls",
          "model_name": "HTMLModel",
          "state": {
            "_view_name": "HTMLView",
            "style": "IPY_MODEL_124cbb10ccba47bab047aa19fe93498f",
            "_dom_classes": [],
            "description": "",
            "_model_name": "HTMLModel",
            "placeholder": "​",
            "_view_module": "@jupyter-widgets/controls",
            "_model_module_version": "1.5.0",
            "value": " 984352/984352 [05:53&lt;00:00, 2784.25ex/s]",
            "_view_count": null,
            "_view_module_version": "1.5.0",
            "description_tooltip": null,
            "_model_module": "@jupyter-widgets/controls",
            "layout": "IPY_MODEL_8613acb559ad4bb7b041647af39d626c"
          }
        },
        "98634f06fbb0404d8129761a38aa7495": {
          "model_module": "@jupyter-widgets/controls",
          "model_name": "ProgressStyleModel",
          "state": {
            "_view_name": "StyleView",
            "_model_name": "ProgressStyleModel",
            "description_width": "initial",
            "_view_module": "@jupyter-widgets/base",
            "_model_module_version": "1.5.0",
            "_view_count": null,
            "_view_module_version": "1.2.0",
            "bar_color": null,
            "_model_module": "@jupyter-widgets/controls"
          }
        },
        "add4f30c7ee5457d8b94374a698c7ed6": {
          "model_module": "@jupyter-widgets/base",
          "model_name": "LayoutModel",
          "state": {
            "_view_name": "LayoutView",
            "grid_template_rows": null,
            "right": null,
            "justify_content": null,
            "_view_module": "@jupyter-widgets/base",
            "overflow": null,
            "_model_module_version": "1.2.0",
            "_view_count": null,
            "flex_flow": null,
            "width": null,
            "min_width": null,
            "border": null,
            "align_items": null,
            "bottom": null,
            "_model_module": "@jupyter-widgets/base",
            "top": null,
            "grid_column": null,
            "overflow_y": null,
            "overflow_x": null,
            "grid_auto_flow": null,
            "grid_area": null,
            "grid_template_columns": null,
            "flex": null,
            "_model_name": "LayoutModel",
            "justify_items": null,
            "grid_row": null,
            "max_height": null,
            "align_content": null,
            "visibility": null,
            "align_self": null,
            "height": null,
            "min_height": null,
            "padding": null,
            "grid_auto_rows": null,
            "grid_gap": null,
            "max_width": null,
            "order": null,
            "_view_module_version": "1.2.0",
            "grid_template_areas": null,
            "object_position": null,
            "object_fit": null,
            "grid_auto_columns": null,
            "margin": null,
            "display": null,
            "left": null
          }
        },
        "124cbb10ccba47bab047aa19fe93498f": {
          "model_module": "@jupyter-widgets/controls",
          "model_name": "DescriptionStyleModel",
          "state": {
            "_view_name": "StyleView",
            "_model_name": "DescriptionStyleModel",
            "description_width": "",
            "_view_module": "@jupyter-widgets/base",
            "_model_module_version": "1.5.0",
            "_view_count": null,
            "_view_module_version": "1.2.0",
            "_model_module": "@jupyter-widgets/controls"
          }
        },
        "8613acb559ad4bb7b041647af39d626c": {
          "model_module": "@jupyter-widgets/base",
          "model_name": "LayoutModel",
          "state": {
            "_view_name": "LayoutView",
            "grid_template_rows": null,
            "right": null,
            "justify_content": null,
            "_view_module": "@jupyter-widgets/base",
            "overflow": null,
            "_model_module_version": "1.2.0",
            "_view_count": null,
            "flex_flow": null,
            "width": null,
            "min_width": null,
            "border": null,
            "align_items": null,
            "bottom": null,
            "_model_module": "@jupyter-widgets/base",
            "top": null,
            "grid_column": null,
            "overflow_y": null,
            "overflow_x": null,
            "grid_auto_flow": null,
            "grid_area": null,
            "grid_template_columns": null,
            "flex": null,
            "_model_name": "LayoutModel",
            "justify_items": null,
            "grid_row": null,
            "max_height": null,
            "align_content": null,
            "visibility": null,
            "align_self": null,
            "height": null,
            "min_height": null,
            "padding": null,
            "grid_auto_rows": null,
            "grid_gap": null,
            "max_width": null,
            "order": null,
            "_view_module_version": "1.2.0",
            "grid_template_areas": null,
            "object_position": null,
            "object_fit": null,
            "grid_auto_columns": null,
            "margin": null,
            "display": null,
            "left": null
          }
        },
        "8520db4d87a949ba890c8b2d669e4530": {
          "model_module": "@jupyter-widgets/controls",
          "model_name": "HBoxModel",
          "state": {
            "_view_name": "HBoxView",
            "_dom_classes": [],
            "_model_name": "HBoxModel",
            "_view_module": "@jupyter-widgets/controls",
            "_model_module_version": "1.5.0",
            "_view_count": null,
            "_view_module_version": "1.5.0",
            "box_style": "",
            "layout": "IPY_MODEL_26ca0652cec04ad99473127ee86d7b0e",
            "_model_module": "@jupyter-widgets/controls",
            "children": [
              "IPY_MODEL_c9598d9c938349d38a20d7ba90d7fac8",
              "IPY_MODEL_127cbc7e00fc42d39fc0558f48d113a1"
            ]
          }
        },
        "26ca0652cec04ad99473127ee86d7b0e": {
          "model_module": "@jupyter-widgets/base",
          "model_name": "LayoutModel",
          "state": {
            "_view_name": "LayoutView",
            "grid_template_rows": null,
            "right": null,
            "justify_content": null,
            "_view_module": "@jupyter-widgets/base",
            "overflow": null,
            "_model_module_version": "1.2.0",
            "_view_count": null,
            "flex_flow": null,
            "width": null,
            "min_width": null,
            "border": null,
            "align_items": null,
            "bottom": null,
            "_model_module": "@jupyter-widgets/base",
            "top": null,
            "grid_column": null,
            "overflow_y": null,
            "overflow_x": null,
            "grid_auto_flow": null,
            "grid_area": null,
            "grid_template_columns": null,
            "flex": null,
            "_model_name": "LayoutModel",
            "justify_items": null,
            "grid_row": null,
            "max_height": null,
            "align_content": null,
            "visibility": null,
            "align_self": null,
            "height": null,
            "min_height": null,
            "padding": null,
            "grid_auto_rows": null,
            "grid_gap": null,
            "max_width": null,
            "order": null,
            "_view_module_version": "1.2.0",
            "grid_template_areas": null,
            "object_position": null,
            "object_fit": null,
            "grid_auto_columns": null,
            "margin": null,
            "display": null,
            "left": null
          }
        },
        "c9598d9c938349d38a20d7ba90d7fac8": {
          "model_module": "@jupyter-widgets/controls",
          "model_name": "FloatProgressModel",
          "state": {
            "_view_name": "ProgressView",
            "style": "IPY_MODEL_10ac95f80de1463cb4059fc505107341",
            "_dom_classes": [],
            "description": " #1: 100%",
            "_model_name": "FloatProgressModel",
            "bar_style": "success",
            "max": 984351,
            "_view_module": "@jupyter-widgets/controls",
            "_model_module_version": "1.5.0",
            "value": 984351,
            "_view_count": null,
            "_view_module_version": "1.5.0",
            "orientation": "horizontal",
            "min": 0,
            "description_tooltip": null,
            "_model_module": "@jupyter-widgets/controls",
            "layout": "IPY_MODEL_9dfed9d1ca5f4292a941a98bf1449cd6"
          }
        },
        "127cbc7e00fc42d39fc0558f48d113a1": {
          "model_module": "@jupyter-widgets/controls",
          "model_name": "HTMLModel",
          "state": {
            "_view_name": "HTMLView",
            "style": "IPY_MODEL_cec2489397c443b4b48b10e1f03fd332",
            "_dom_classes": [],
            "description": "",
            "_model_name": "HTMLModel",
            "placeholder": "​",
            "_view_module": "@jupyter-widgets/controls",
            "_model_module_version": "1.5.0",
            "value": " 984351/984351 [05:58&lt;00:00, 2746.35ex/s]",
            "_view_count": null,
            "_view_module_version": "1.5.0",
            "description_tooltip": null,
            "_model_module": "@jupyter-widgets/controls",
            "layout": "IPY_MODEL_3d56fb23e90c432ca23034292893337a"
          }
        },
        "10ac95f80de1463cb4059fc505107341": {
          "model_module": "@jupyter-widgets/controls",
          "model_name": "ProgressStyleModel",
          "state": {
            "_view_name": "StyleView",
            "_model_name": "ProgressStyleModel",
            "description_width": "initial",
            "_view_module": "@jupyter-widgets/base",
            "_model_module_version": "1.5.0",
            "_view_count": null,
            "_view_module_version": "1.2.0",
            "bar_color": null,
            "_model_module": "@jupyter-widgets/controls"
          }
        },
        "9dfed9d1ca5f4292a941a98bf1449cd6": {
          "model_module": "@jupyter-widgets/base",
          "model_name": "LayoutModel",
          "state": {
            "_view_name": "LayoutView",
            "grid_template_rows": null,
            "right": null,
            "justify_content": null,
            "_view_module": "@jupyter-widgets/base",
            "overflow": null,
            "_model_module_version": "1.2.0",
            "_view_count": null,
            "flex_flow": null,
            "width": null,
            "min_width": null,
            "border": null,
            "align_items": null,
            "bottom": null,
            "_model_module": "@jupyter-widgets/base",
            "top": null,
            "grid_column": null,
            "overflow_y": null,
            "overflow_x": null,
            "grid_auto_flow": null,
            "grid_area": null,
            "grid_template_columns": null,
            "flex": null,
            "_model_name": "LayoutModel",
            "justify_items": null,
            "grid_row": null,
            "max_height": null,
            "align_content": null,
            "visibility": null,
            "align_self": null,
            "height": null,
            "min_height": null,
            "padding": null,
            "grid_auto_rows": null,
            "grid_gap": null,
            "max_width": null,
            "order": null,
            "_view_module_version": "1.2.0",
            "grid_template_areas": null,
            "object_position": null,
            "object_fit": null,
            "grid_auto_columns": null,
            "margin": null,
            "display": null,
            "left": null
          }
        },
        "cec2489397c443b4b48b10e1f03fd332": {
          "model_module": "@jupyter-widgets/controls",
          "model_name": "DescriptionStyleModel",
          "state": {
            "_view_name": "StyleView",
            "_model_name": "DescriptionStyleModel",
            "description_width": "",
            "_view_module": "@jupyter-widgets/base",
            "_model_module_version": "1.5.0",
            "_view_count": null,
            "_view_module_version": "1.2.0",
            "_model_module": "@jupyter-widgets/controls"
          }
        },
        "3d56fb23e90c432ca23034292893337a": {
          "model_module": "@jupyter-widgets/base",
          "model_name": "LayoutModel",
          "state": {
            "_view_name": "LayoutView",
            "grid_template_rows": null,
            "right": null,
            "justify_content": null,
            "_view_module": "@jupyter-widgets/base",
            "overflow": null,
            "_model_module_version": "1.2.0",
            "_view_count": null,
            "flex_flow": null,
            "width": null,
            "min_width": null,
            "border": null,
            "align_items": null,
            "bottom": null,
            "_model_module": "@jupyter-widgets/base",
            "top": null,
            "grid_column": null,
            "overflow_y": null,
            "overflow_x": null,
            "grid_auto_flow": null,
            "grid_area": null,
            "grid_template_columns": null,
            "flex": null,
            "_model_name": "LayoutModel",
            "justify_items": null,
            "grid_row": null,
            "max_height": null,
            "align_content": null,
            "visibility": null,
            "align_self": null,
            "height": null,
            "min_height": null,
            "padding": null,
            "grid_auto_rows": null,
            "grid_gap": null,
            "max_width": null,
            "order": null,
            "_view_module_version": "1.2.0",
            "grid_template_areas": null,
            "object_position": null,
            "object_fit": null,
            "grid_auto_columns": null,
            "margin": null,
            "display": null,
            "left": null
          }
        },
        "2dda8f43b204474b8611ce0f2c6d4603": {
          "model_module": "@jupyter-widgets/controls",
          "model_name": "HBoxModel",
          "state": {
            "_view_name": "HBoxView",
            "_dom_classes": [],
            "_model_name": "HBoxModel",
            "_view_module": "@jupyter-widgets/controls",
            "_model_module_version": "1.5.0",
            "_view_count": null,
            "_view_module_version": "1.5.0",
            "box_style": "",
            "layout": "IPY_MODEL_f1828b2307c54959ad00399a2ebf29f8",
            "_model_module": "@jupyter-widgets/controls",
            "children": [
              "IPY_MODEL_dfa14e55d9a94ca1ad86a39da5bca268",
              "IPY_MODEL_9f0e9d9dfc314447a6b13dc605d5cb35"
            ]
          }
        },
        "f1828b2307c54959ad00399a2ebf29f8": {
          "model_module": "@jupyter-widgets/base",
          "model_name": "LayoutModel",
          "state": {
            "_view_name": "LayoutView",
            "grid_template_rows": null,
            "right": null,
            "justify_content": null,
            "_view_module": "@jupyter-widgets/base",
            "overflow": null,
            "_model_module_version": "1.2.0",
            "_view_count": null,
            "flex_flow": null,
            "width": null,
            "min_width": null,
            "border": null,
            "align_items": null,
            "bottom": null,
            "_model_module": "@jupyter-widgets/base",
            "top": null,
            "grid_column": null,
            "overflow_y": null,
            "overflow_x": null,
            "grid_auto_flow": null,
            "grid_area": null,
            "grid_template_columns": null,
            "flex": null,
            "_model_name": "LayoutModel",
            "justify_items": null,
            "grid_row": null,
            "max_height": null,
            "align_content": null,
            "visibility": null,
            "align_self": null,
            "height": null,
            "min_height": null,
            "padding": null,
            "grid_auto_rows": null,
            "grid_gap": null,
            "max_width": null,
            "order": null,
            "_view_module_version": "1.2.0",
            "grid_template_areas": null,
            "object_position": null,
            "object_fit": null,
            "grid_auto_columns": null,
            "margin": null,
            "display": null,
            "left": null
          }
        },
        "dfa14e55d9a94ca1ad86a39da5bca268": {
          "model_module": "@jupyter-widgets/controls",
          "model_name": "FloatProgressModel",
          "state": {
            "_view_name": "ProgressView",
            "style": "IPY_MODEL_0d93d1d727394546a946c8073cd3b70d",
            "_dom_classes": [],
            "description": " #0: 100%",
            "_model_name": "FloatProgressModel",
            "bar_style": "success",
            "max": 109373,
            "_view_module": "@jupyter-widgets/controls",
            "_model_module_version": "1.5.0",
            "value": 109373,
            "_view_count": null,
            "_view_module_version": "1.5.0",
            "orientation": "horizontal",
            "min": 0,
            "description_tooltip": null,
            "_model_module": "@jupyter-widgets/controls",
            "layout": "IPY_MODEL_2e5cd99895f64b4aa24644349aaa6b7f"
          }
        },
        "9f0e9d9dfc314447a6b13dc605d5cb35": {
          "model_module": "@jupyter-widgets/controls",
          "model_name": "HTMLModel",
          "state": {
            "_view_name": "HTMLView",
            "style": "IPY_MODEL_58900c3ed332412f9b520a9b00b55eac",
            "_dom_classes": [],
            "description": "",
            "_model_name": "HTMLModel",
            "placeholder": "​",
            "_view_module": "@jupyter-widgets/controls",
            "_model_module_version": "1.5.0",
            "value": " 109373/109373 [00:41&lt;00:00, 2661.43ex/s]",
            "_view_count": null,
            "_view_module_version": "1.5.0",
            "description_tooltip": null,
            "_model_module": "@jupyter-widgets/controls",
            "layout": "IPY_MODEL_5f2d2037822e41ceb927b915d31970fe"
          }
        },
        "0d93d1d727394546a946c8073cd3b70d": {
          "model_module": "@jupyter-widgets/controls",
          "model_name": "ProgressStyleModel",
          "state": {
            "_view_name": "StyleView",
            "_model_name": "ProgressStyleModel",
            "description_width": "initial",
            "_view_module": "@jupyter-widgets/base",
            "_model_module_version": "1.5.0",
            "_view_count": null,
            "_view_module_version": "1.2.0",
            "bar_color": null,
            "_model_module": "@jupyter-widgets/controls"
          }
        },
        "2e5cd99895f64b4aa24644349aaa6b7f": {
          "model_module": "@jupyter-widgets/base",
          "model_name": "LayoutModel",
          "state": {
            "_view_name": "LayoutView",
            "grid_template_rows": null,
            "right": null,
            "justify_content": null,
            "_view_module": "@jupyter-widgets/base",
            "overflow": null,
            "_model_module_version": "1.2.0",
            "_view_count": null,
            "flex_flow": null,
            "width": null,
            "min_width": null,
            "border": null,
            "align_items": null,
            "bottom": null,
            "_model_module": "@jupyter-widgets/base",
            "top": null,
            "grid_column": null,
            "overflow_y": null,
            "overflow_x": null,
            "grid_auto_flow": null,
            "grid_area": null,
            "grid_template_columns": null,
            "flex": null,
            "_model_name": "LayoutModel",
            "justify_items": null,
            "grid_row": null,
            "max_height": null,
            "align_content": null,
            "visibility": null,
            "align_self": null,
            "height": null,
            "min_height": null,
            "padding": null,
            "grid_auto_rows": null,
            "grid_gap": null,
            "max_width": null,
            "order": null,
            "_view_module_version": "1.2.0",
            "grid_template_areas": null,
            "object_position": null,
            "object_fit": null,
            "grid_auto_columns": null,
            "margin": null,
            "display": null,
            "left": null
          }
        },
        "58900c3ed332412f9b520a9b00b55eac": {
          "model_module": "@jupyter-widgets/controls",
          "model_name": "DescriptionStyleModel",
          "state": {
            "_view_name": "StyleView",
            "_model_name": "DescriptionStyleModel",
            "description_width": "",
            "_view_module": "@jupyter-widgets/base",
            "_model_module_version": "1.5.0",
            "_view_count": null,
            "_view_module_version": "1.2.0",
            "_model_module": "@jupyter-widgets/controls"
          }
        },
        "5f2d2037822e41ceb927b915d31970fe": {
          "model_module": "@jupyter-widgets/base",
          "model_name": "LayoutModel",
          "state": {
            "_view_name": "LayoutView",
            "grid_template_rows": null,
            "right": null,
            "justify_content": null,
            "_view_module": "@jupyter-widgets/base",
            "overflow": null,
            "_model_module_version": "1.2.0",
            "_view_count": null,
            "flex_flow": null,
            "width": null,
            "min_width": null,
            "border": null,
            "align_items": null,
            "bottom": null,
            "_model_module": "@jupyter-widgets/base",
            "top": null,
            "grid_column": null,
            "overflow_y": null,
            "overflow_x": null,
            "grid_auto_flow": null,
            "grid_area": null,
            "grid_template_columns": null,
            "flex": null,
            "_model_name": "LayoutModel",
            "justify_items": null,
            "grid_row": null,
            "max_height": null,
            "align_content": null,
            "visibility": null,
            "align_self": null,
            "height": null,
            "min_height": null,
            "padding": null,
            "grid_auto_rows": null,
            "grid_gap": null,
            "max_width": null,
            "order": null,
            "_view_module_version": "1.2.0",
            "grid_template_areas": null,
            "object_position": null,
            "object_fit": null,
            "grid_auto_columns": null,
            "margin": null,
            "display": null,
            "left": null
          }
        },
        "cb5abddc39474a4ab421928f0d765998": {
          "model_module": "@jupyter-widgets/controls",
          "model_name": "HBoxModel",
          "state": {
            "_view_name": "HBoxView",
            "_dom_classes": [],
            "_model_name": "HBoxModel",
            "_view_module": "@jupyter-widgets/controls",
            "_model_module_version": "1.5.0",
            "_view_count": null,
            "_view_module_version": "1.5.0",
            "box_style": "",
            "layout": "IPY_MODEL_88b71b91800b40d5b2ead4ac60885552",
            "_model_module": "@jupyter-widgets/controls",
            "children": [
              "IPY_MODEL_d09c95276606422d879c1dd64998c35d",
              "IPY_MODEL_64bfc30f398946ff886f90b0acceab42"
            ]
          }
        },
        "88b71b91800b40d5b2ead4ac60885552": {
          "model_module": "@jupyter-widgets/base",
          "model_name": "LayoutModel",
          "state": {
            "_view_name": "LayoutView",
            "grid_template_rows": null,
            "right": null,
            "justify_content": null,
            "_view_module": "@jupyter-widgets/base",
            "overflow": null,
            "_model_module_version": "1.2.0",
            "_view_count": null,
            "flex_flow": null,
            "width": null,
            "min_width": null,
            "border": null,
            "align_items": null,
            "bottom": null,
            "_model_module": "@jupyter-widgets/base",
            "top": null,
            "grid_column": null,
            "overflow_y": null,
            "overflow_x": null,
            "grid_auto_flow": null,
            "grid_area": null,
            "grid_template_columns": null,
            "flex": null,
            "_model_name": "LayoutModel",
            "justify_items": null,
            "grid_row": null,
            "max_height": null,
            "align_content": null,
            "visibility": null,
            "align_self": null,
            "height": null,
            "min_height": null,
            "padding": null,
            "grid_auto_rows": null,
            "grid_gap": null,
            "max_width": null,
            "order": null,
            "_view_module_version": "1.2.0",
            "grid_template_areas": null,
            "object_position": null,
            "object_fit": null,
            "grid_auto_columns": null,
            "margin": null,
            "display": null,
            "left": null
          }
        },
        "d09c95276606422d879c1dd64998c35d": {
          "model_module": "@jupyter-widgets/controls",
          "model_name": "FloatProgressModel",
          "state": {
            "_view_name": "ProgressView",
            "style": "IPY_MODEL_8fd6b8b428da41dba227311a0676ed57",
            "_dom_classes": [],
            "description": " #1: 100%",
            "_model_name": "FloatProgressModel",
            "bar_style": "success",
            "max": 109372,
            "_view_module": "@jupyter-widgets/controls",
            "_model_module_version": "1.5.0",
            "value": 109372,
            "_view_count": null,
            "_view_module_version": "1.5.0",
            "orientation": "horizontal",
            "min": 0,
            "description_tooltip": null,
            "_model_module": "@jupyter-widgets/controls",
            "layout": "IPY_MODEL_8ddb1da5e8914dbf847886e3a07848ab"
          }
        },
        "64bfc30f398946ff886f90b0acceab42": {
          "model_module": "@jupyter-widgets/controls",
          "model_name": "HTMLModel",
          "state": {
            "_view_name": "HTMLView",
            "style": "IPY_MODEL_ba89926b93114306a0b1df671acc83e4",
            "_dom_classes": [],
            "description": "",
            "_model_name": "HTMLModel",
            "placeholder": "​",
            "_view_module": "@jupyter-widgets/controls",
            "_model_module_version": "1.5.0",
            "value": " 109372/109372 [00:40&lt;00:00, 2712.57ex/s]",
            "_view_count": null,
            "_view_module_version": "1.5.0",
            "description_tooltip": null,
            "_model_module": "@jupyter-widgets/controls",
            "layout": "IPY_MODEL_b9c10f8e9d7a4e079f394bb3b8c10ce9"
          }
        },
        "8fd6b8b428da41dba227311a0676ed57": {
          "model_module": "@jupyter-widgets/controls",
          "model_name": "ProgressStyleModel",
          "state": {
            "_view_name": "StyleView",
            "_model_name": "ProgressStyleModel",
            "description_width": "initial",
            "_view_module": "@jupyter-widgets/base",
            "_model_module_version": "1.5.0",
            "_view_count": null,
            "_view_module_version": "1.2.0",
            "bar_color": null,
            "_model_module": "@jupyter-widgets/controls"
          }
        },
        "8ddb1da5e8914dbf847886e3a07848ab": {
          "model_module": "@jupyter-widgets/base",
          "model_name": "LayoutModel",
          "state": {
            "_view_name": "LayoutView",
            "grid_template_rows": null,
            "right": null,
            "justify_content": null,
            "_view_module": "@jupyter-widgets/base",
            "overflow": null,
            "_model_module_version": "1.2.0",
            "_view_count": null,
            "flex_flow": null,
            "width": null,
            "min_width": null,
            "border": null,
            "align_items": null,
            "bottom": null,
            "_model_module": "@jupyter-widgets/base",
            "top": null,
            "grid_column": null,
            "overflow_y": null,
            "overflow_x": null,
            "grid_auto_flow": null,
            "grid_area": null,
            "grid_template_columns": null,
            "flex": null,
            "_model_name": "LayoutModel",
            "justify_items": null,
            "grid_row": null,
            "max_height": null,
            "align_content": null,
            "visibility": null,
            "align_self": null,
            "height": null,
            "min_height": null,
            "padding": null,
            "grid_auto_rows": null,
            "grid_gap": null,
            "max_width": null,
            "order": null,
            "_view_module_version": "1.2.0",
            "grid_template_areas": null,
            "object_position": null,
            "object_fit": null,
            "grid_auto_columns": null,
            "margin": null,
            "display": null,
            "left": null
          }
        },
        "ba89926b93114306a0b1df671acc83e4": {
          "model_module": "@jupyter-widgets/controls",
          "model_name": "DescriptionStyleModel",
          "state": {
            "_view_name": "StyleView",
            "_model_name": "DescriptionStyleModel",
            "description_width": "",
            "_view_module": "@jupyter-widgets/base",
            "_model_module_version": "1.5.0",
            "_view_count": null,
            "_view_module_version": "1.2.0",
            "_model_module": "@jupyter-widgets/controls"
          }
        },
        "b9c10f8e9d7a4e079f394bb3b8c10ce9": {
          "model_module": "@jupyter-widgets/base",
          "model_name": "LayoutModel",
          "state": {
            "_view_name": "LayoutView",
            "grid_template_rows": null,
            "right": null,
            "justify_content": null,
            "_view_module": "@jupyter-widgets/base",
            "overflow": null,
            "_model_module_version": "1.2.0",
            "_view_count": null,
            "flex_flow": null,
            "width": null,
            "min_width": null,
            "border": null,
            "align_items": null,
            "bottom": null,
            "_model_module": "@jupyter-widgets/base",
            "top": null,
            "grid_column": null,
            "overflow_y": null,
            "overflow_x": null,
            "grid_auto_flow": null,
            "grid_area": null,
            "grid_template_columns": null,
            "flex": null,
            "_model_name": "LayoutModel",
            "justify_items": null,
            "grid_row": null,
            "max_height": null,
            "align_content": null,
            "visibility": null,
            "align_self": null,
            "height": null,
            "min_height": null,
            "padding": null,
            "grid_auto_rows": null,
            "grid_gap": null,
            "max_width": null,
            "order": null,
            "_view_module_version": "1.2.0",
            "grid_template_areas": null,
            "object_position": null,
            "object_fit": null,
            "grid_auto_columns": null,
            "margin": null,
            "display": null,
            "left": null
          }
        },
        "6cca9ecd07ff47f3882fcf1ac449b973": {
          "model_module": "@jupyter-widgets/controls",
          "model_name": "HBoxModel",
          "state": {
            "_view_name": "HBoxView",
            "_dom_classes": [],
            "_model_name": "HBoxModel",
            "_view_module": "@jupyter-widgets/controls",
            "_model_module_version": "1.5.0",
            "_view_count": null,
            "_view_module_version": "1.5.0",
            "box_style": "",
            "layout": "IPY_MODEL_4aa9755148b84f1682ec9387c5d837cc",
            "_model_module": "@jupyter-widgets/controls",
            "children": [
              "IPY_MODEL_b703f234eb7e435f87a1eb29e3bcdc5c",
              "IPY_MODEL_b09045becf224064a7994a5e2299ab85"
            ]
          }
        },
        "4aa9755148b84f1682ec9387c5d837cc": {
          "model_module": "@jupyter-widgets/base",
          "model_name": "LayoutModel",
          "state": {
            "_view_name": "LayoutView",
            "grid_template_rows": null,
            "right": null,
            "justify_content": null,
            "_view_module": "@jupyter-widgets/base",
            "overflow": null,
            "_model_module_version": "1.2.0",
            "_view_count": null,
            "flex_flow": null,
            "width": null,
            "min_width": null,
            "border": null,
            "align_items": null,
            "bottom": null,
            "_model_module": "@jupyter-widgets/base",
            "top": null,
            "grid_column": null,
            "overflow_y": null,
            "overflow_x": null,
            "grid_auto_flow": null,
            "grid_area": null,
            "grid_template_columns": null,
            "flex": null,
            "_model_name": "LayoutModel",
            "justify_items": null,
            "grid_row": null,
            "max_height": null,
            "align_content": null,
            "visibility": null,
            "align_self": null,
            "height": null,
            "min_height": null,
            "padding": null,
            "grid_auto_rows": null,
            "grid_gap": null,
            "max_width": null,
            "order": null,
            "_view_module_version": "1.2.0",
            "grid_template_areas": null,
            "object_position": null,
            "object_fit": null,
            "grid_auto_columns": null,
            "margin": null,
            "display": null,
            "left": null
          }
        },
        "b703f234eb7e435f87a1eb29e3bcdc5c": {
          "model_module": "@jupyter-widgets/controls",
          "model_name": "FloatProgressModel",
          "state": {
            "_view_name": "ProgressView",
            "style": "IPY_MODEL_fb836eea1d724d73b61d8b3709ec7e72",
            "_dom_classes": [],
            "description": "Downloading: 100%",
            "_model_name": "FloatProgressModel",
            "bar_style": "success",
            "max": 665,
            "_view_module": "@jupyter-widgets/controls",
            "_model_module_version": "1.5.0",
            "value": 665,
            "_view_count": null,
            "_view_module_version": "1.5.0",
            "orientation": "horizontal",
            "min": 0,
            "description_tooltip": null,
            "_model_module": "@jupyter-widgets/controls",
            "layout": "IPY_MODEL_b035102a6a1e443b9987859e15dddd52"
          }
        },
        "b09045becf224064a7994a5e2299ab85": {
          "model_module": "@jupyter-widgets/controls",
          "model_name": "HTMLModel",
          "state": {
            "_view_name": "HTMLView",
            "style": "IPY_MODEL_b59bdac9c62648fe823bc21ad8835c42",
            "_dom_classes": [],
            "description": "",
            "_model_name": "HTMLModel",
            "placeholder": "​",
            "_view_module": "@jupyter-widgets/controls",
            "_model_module_version": "1.5.0",
            "value": " 665/665 [00:01&lt;00:00, 378B/s]",
            "_view_count": null,
            "_view_module_version": "1.5.0",
            "description_tooltip": null,
            "_model_module": "@jupyter-widgets/controls",
            "layout": "IPY_MODEL_4e389351e8824238b1dc58cabc39f634"
          }
        },
        "fb836eea1d724d73b61d8b3709ec7e72": {
          "model_module": "@jupyter-widgets/controls",
          "model_name": "ProgressStyleModel",
          "state": {
            "_view_name": "StyleView",
            "_model_name": "ProgressStyleModel",
            "description_width": "initial",
            "_view_module": "@jupyter-widgets/base",
            "_model_module_version": "1.5.0",
            "_view_count": null,
            "_view_module_version": "1.2.0",
            "bar_color": null,
            "_model_module": "@jupyter-widgets/controls"
          }
        },
        "b035102a6a1e443b9987859e15dddd52": {
          "model_module": "@jupyter-widgets/base",
          "model_name": "LayoutModel",
          "state": {
            "_view_name": "LayoutView",
            "grid_template_rows": null,
            "right": null,
            "justify_content": null,
            "_view_module": "@jupyter-widgets/base",
            "overflow": null,
            "_model_module_version": "1.2.0",
            "_view_count": null,
            "flex_flow": null,
            "width": null,
            "min_width": null,
            "border": null,
            "align_items": null,
            "bottom": null,
            "_model_module": "@jupyter-widgets/base",
            "top": null,
            "grid_column": null,
            "overflow_y": null,
            "overflow_x": null,
            "grid_auto_flow": null,
            "grid_area": null,
            "grid_template_columns": null,
            "flex": null,
            "_model_name": "LayoutModel",
            "justify_items": null,
            "grid_row": null,
            "max_height": null,
            "align_content": null,
            "visibility": null,
            "align_self": null,
            "height": null,
            "min_height": null,
            "padding": null,
            "grid_auto_rows": null,
            "grid_gap": null,
            "max_width": null,
            "order": null,
            "_view_module_version": "1.2.0",
            "grid_template_areas": null,
            "object_position": null,
            "object_fit": null,
            "grid_auto_columns": null,
            "margin": null,
            "display": null,
            "left": null
          }
        },
        "b59bdac9c62648fe823bc21ad8835c42": {
          "model_module": "@jupyter-widgets/controls",
          "model_name": "DescriptionStyleModel",
          "state": {
            "_view_name": "StyleView",
            "_model_name": "DescriptionStyleModel",
            "description_width": "",
            "_view_module": "@jupyter-widgets/base",
            "_model_module_version": "1.5.0",
            "_view_count": null,
            "_view_module_version": "1.2.0",
            "_model_module": "@jupyter-widgets/controls"
          }
        },
        "4e389351e8824238b1dc58cabc39f634": {
          "model_module": "@jupyter-widgets/base",
          "model_name": "LayoutModel",
          "state": {
            "_view_name": "LayoutView",
            "grid_template_rows": null,
            "right": null,
            "justify_content": null,
            "_view_module": "@jupyter-widgets/base",
            "overflow": null,
            "_model_module_version": "1.2.0",
            "_view_count": null,
            "flex_flow": null,
            "width": null,
            "min_width": null,
            "border": null,
            "align_items": null,
            "bottom": null,
            "_model_module": "@jupyter-widgets/base",
            "top": null,
            "grid_column": null,
            "overflow_y": null,
            "overflow_x": null,
            "grid_auto_flow": null,
            "grid_area": null,
            "grid_template_columns": null,
            "flex": null,
            "_model_name": "LayoutModel",
            "justify_items": null,
            "grid_row": null,
            "max_height": null,
            "align_content": null,
            "visibility": null,
            "align_self": null,
            "height": null,
            "min_height": null,
            "padding": null,
            "grid_auto_rows": null,
            "grid_gap": null,
            "max_width": null,
            "order": null,
            "_view_module_version": "1.2.0",
            "grid_template_areas": null,
            "object_position": null,
            "object_fit": null,
            "grid_auto_columns": null,
            "margin": null,
            "display": null,
            "left": null
          }
        },
        "8f1a5ac2eaaf48458af6a5d280d24959": {
          "model_module": "@jupyter-widgets/controls",
          "model_name": "HBoxModel",
          "state": {
            "_view_name": "HBoxView",
            "_dom_classes": [],
            "_model_name": "HBoxModel",
            "_view_module": "@jupyter-widgets/controls",
            "_model_module_version": "1.5.0",
            "_view_count": null,
            "_view_module_version": "1.5.0",
            "box_style": "",
            "layout": "IPY_MODEL_3ac56f8982834c17a28135de7375cdf8",
            "_model_module": "@jupyter-widgets/controls",
            "children": [
              "IPY_MODEL_2f9edf43294d4c0ebfc081541631f6af",
              "IPY_MODEL_e8d3b692ca0144e585b33c412611e45d"
            ]
          }
        },
        "3ac56f8982834c17a28135de7375cdf8": {
          "model_module": "@jupyter-widgets/base",
          "model_name": "LayoutModel",
          "state": {
            "_view_name": "LayoutView",
            "grid_template_rows": null,
            "right": null,
            "justify_content": null,
            "_view_module": "@jupyter-widgets/base",
            "overflow": null,
            "_model_module_version": "1.2.0",
            "_view_count": null,
            "flex_flow": null,
            "width": null,
            "min_width": null,
            "border": null,
            "align_items": null,
            "bottom": null,
            "_model_module": "@jupyter-widgets/base",
            "top": null,
            "grid_column": null,
            "overflow_y": null,
            "overflow_x": null,
            "grid_auto_flow": null,
            "grid_area": null,
            "grid_template_columns": null,
            "flex": null,
            "_model_name": "LayoutModel",
            "justify_items": null,
            "grid_row": null,
            "max_height": null,
            "align_content": null,
            "visibility": null,
            "align_self": null,
            "height": null,
            "min_height": null,
            "padding": null,
            "grid_auto_rows": null,
            "grid_gap": null,
            "max_width": null,
            "order": null,
            "_view_module_version": "1.2.0",
            "grid_template_areas": null,
            "object_position": null,
            "object_fit": null,
            "grid_auto_columns": null,
            "margin": null,
            "display": null,
            "left": null
          }
        },
        "2f9edf43294d4c0ebfc081541631f6af": {
          "model_module": "@jupyter-widgets/controls",
          "model_name": "FloatProgressModel",
          "state": {
            "_view_name": "ProgressView",
            "style": "IPY_MODEL_e2725f9654bf4870901957f76a5ae06c",
            "_dom_classes": [],
            "description": "Downloading: 100%",
            "_model_name": "FloatProgressModel",
            "bar_style": "success",
            "max": 548118077,
            "_view_module": "@jupyter-widgets/controls",
            "_model_module_version": "1.5.0",
            "value": 548118077,
            "_view_count": null,
            "_view_module_version": "1.5.0",
            "orientation": "horizontal",
            "min": 0,
            "description_tooltip": null,
            "_model_module": "@jupyter-widgets/controls",
            "layout": "IPY_MODEL_135d822deac64e199fb8bc80bee22d37"
          }
        },
        "e8d3b692ca0144e585b33c412611e45d": {
          "model_module": "@jupyter-widgets/controls",
          "model_name": "HTMLModel",
          "state": {
            "_view_name": "HTMLView",
            "style": "IPY_MODEL_35c041e79c0041759509855b34f6f207",
            "_dom_classes": [],
            "description": "",
            "_model_name": "HTMLModel",
            "placeholder": "​",
            "_view_module": "@jupyter-widgets/controls",
            "_model_module_version": "1.5.0",
            "value": " 548M/548M [00:10&lt;00:00, 53.5MB/s]",
            "_view_count": null,
            "_view_module_version": "1.5.0",
            "description_tooltip": null,
            "_model_module": "@jupyter-widgets/controls",
            "layout": "IPY_MODEL_2686fb1f1be74f7a952633bed9325b71"
          }
        },
        "e2725f9654bf4870901957f76a5ae06c": {
          "model_module": "@jupyter-widgets/controls",
          "model_name": "ProgressStyleModel",
          "state": {
            "_view_name": "StyleView",
            "_model_name": "ProgressStyleModel",
            "description_width": "initial",
            "_view_module": "@jupyter-widgets/base",
            "_model_module_version": "1.5.0",
            "_view_count": null,
            "_view_module_version": "1.2.0",
            "bar_color": null,
            "_model_module": "@jupyter-widgets/controls"
          }
        },
        "135d822deac64e199fb8bc80bee22d37": {
          "model_module": "@jupyter-widgets/base",
          "model_name": "LayoutModel",
          "state": {
            "_view_name": "LayoutView",
            "grid_template_rows": null,
            "right": null,
            "justify_content": null,
            "_view_module": "@jupyter-widgets/base",
            "overflow": null,
            "_model_module_version": "1.2.0",
            "_view_count": null,
            "flex_flow": null,
            "width": null,
            "min_width": null,
            "border": null,
            "align_items": null,
            "bottom": null,
            "_model_module": "@jupyter-widgets/base",
            "top": null,
            "grid_column": null,
            "overflow_y": null,
            "overflow_x": null,
            "grid_auto_flow": null,
            "grid_area": null,
            "grid_template_columns": null,
            "flex": null,
            "_model_name": "LayoutModel",
            "justify_items": null,
            "grid_row": null,
            "max_height": null,
            "align_content": null,
            "visibility": null,
            "align_self": null,
            "height": null,
            "min_height": null,
            "padding": null,
            "grid_auto_rows": null,
            "grid_gap": null,
            "max_width": null,
            "order": null,
            "_view_module_version": "1.2.0",
            "grid_template_areas": null,
            "object_position": null,
            "object_fit": null,
            "grid_auto_columns": null,
            "margin": null,
            "display": null,
            "left": null
          }
        },
        "35c041e79c0041759509855b34f6f207": {
          "model_module": "@jupyter-widgets/controls",
          "model_name": "DescriptionStyleModel",
          "state": {
            "_view_name": "StyleView",
            "_model_name": "DescriptionStyleModel",
            "description_width": "",
            "_view_module": "@jupyter-widgets/base",
            "_model_module_version": "1.5.0",
            "_view_count": null,
            "_view_module_version": "1.2.0",
            "_model_module": "@jupyter-widgets/controls"
          }
        },
        "2686fb1f1be74f7a952633bed9325b71": {
          "model_module": "@jupyter-widgets/base",
          "model_name": "LayoutModel",
          "state": {
            "_view_name": "LayoutView",
            "grid_template_rows": null,
            "right": null,
            "justify_content": null,
            "_view_module": "@jupyter-widgets/base",
            "overflow": null,
            "_model_module_version": "1.2.0",
            "_view_count": null,
            "flex_flow": null,
            "width": null,
            "min_width": null,
            "border": null,
            "align_items": null,
            "bottom": null,
            "_model_module": "@jupyter-widgets/base",
            "top": null,
            "grid_column": null,
            "overflow_y": null,
            "overflow_x": null,
            "grid_auto_flow": null,
            "grid_area": null,
            "grid_template_columns": null,
            "flex": null,
            "_model_name": "LayoutModel",
            "justify_items": null,
            "grid_row": null,
            "max_height": null,
            "align_content": null,
            "visibility": null,
            "align_self": null,
            "height": null,
            "min_height": null,
            "padding": null,
            "grid_auto_rows": null,
            "grid_gap": null,
            "max_width": null,
            "order": null,
            "_view_module_version": "1.2.0",
            "grid_template_areas": null,
            "object_position": null,
            "object_fit": null,
            "grid_auto_columns": null,
            "margin": null,
            "display": null,
            "left": null
          }
        }
      }
    }
  },
  "cells": [
    {
      "cell_type": "code",
      "metadata": {
        "id": "gFCXqFL61oBW"
      },
      "source": [
        "!pip install transformers tokenizers datasets"
      ],
      "execution_count": null,
      "outputs": []
    },
    {
      "cell_type": "code",
      "metadata": {
        "colab": {
          "base_uri": "https://localhost:8080/"
        },
        "id": "rLc92zfzGjEM",
        "outputId": "040a21b7-383d-4556-a7ef-4077fb326945"
      },
      "source": [
        "from google.colab import drive\n",
        "drive.mount('/content/drive')"
      ],
      "execution_count": 2,
      "outputs": [
        {
          "output_type": "stream",
          "text": [
            "Mounted at /content/drive\n"
          ],
          "name": "stdout"
        }
      ]
    },
    {
      "cell_type": "code",
      "metadata": {
        "id": "3OAXhTR91yyo"
      },
      "source": [
        "input_filename = \"naslovi_new.input\"\n",
        "dataset_filename = input_filename + '.prepared'\n",
        "pretrained_model_name = 'gpt2'\n",
        "new_model_name = pretrained_model_name + '_5'"
      ],
      "execution_count": 3,
      "outputs": []
    },
    {
      "cell_type": "code",
      "metadata": {
        "id": "MGVyAnR616yT"
      },
      "source": [
        "from transformers import PreTrainedTokenizerFast\n",
        "tokenizer = PreTrainedTokenizerFast(tokenizer_file=\"/content/drive/MyDrive/ML-Vesti/naslovi-tokenizer.json\")\n",
        "tokenizer.pad_token = \"<pad>\"\n"
      ],
      "execution_count": 6,
      "outputs": []
    },
    {
      "cell_type": "code",
      "metadata": {
        "colab": {
          "base_uri": "https://localhost:8080/",
          "height": 335,
          "referenced_widgets": [
            "571043c05b2044c7873538df4fe28f67",
            "be78dfdb1e7449738c4f32b3083fdbce",
            "a77ef07c23e64e449b0c4532dea14737",
            "b693cfc2a9764b71989ce481e8a1e893",
            "c1cf1be2ac964147a0196bd3e6b0ef12",
            "ee6891bb2ceb494a8229240c6309c16f",
            "f3edf309837242809fb33046e3d3b915",
            "9d2b282cc4c0493d9affc2ef679ed8b8",
            "a64fc5652df4407ab8212a5cd6757f43",
            "77dc7e0958d84065b3a8760469799fdf",
            "f598bf76844a4c65ab8ed6929a12189c",
            "9960abbdd4234947a6161f3b2953b631",
            "98634f06fbb0404d8129761a38aa7495",
            "add4f30c7ee5457d8b94374a698c7ed6",
            "124cbb10ccba47bab047aa19fe93498f",
            "8613acb559ad4bb7b041647af39d626c",
            "8520db4d87a949ba890c8b2d669e4530",
            "26ca0652cec04ad99473127ee86d7b0e",
            "c9598d9c938349d38a20d7ba90d7fac8",
            "127cbc7e00fc42d39fc0558f48d113a1",
            "10ac95f80de1463cb4059fc505107341",
            "9dfed9d1ca5f4292a941a98bf1449cd6",
            "cec2489397c443b4b48b10e1f03fd332",
            "3d56fb23e90c432ca23034292893337a",
            "2dda8f43b204474b8611ce0f2c6d4603",
            "f1828b2307c54959ad00399a2ebf29f8",
            "dfa14e55d9a94ca1ad86a39da5bca268",
            "9f0e9d9dfc314447a6b13dc605d5cb35",
            "0d93d1d727394546a946c8073cd3b70d",
            "2e5cd99895f64b4aa24644349aaa6b7f",
            "58900c3ed332412f9b520a9b00b55eac",
            "5f2d2037822e41ceb927b915d31970fe",
            "cb5abddc39474a4ab421928f0d765998",
            "88b71b91800b40d5b2ead4ac60885552",
            "d09c95276606422d879c1dd64998c35d",
            "64bfc30f398946ff886f90b0acceab42",
            "8fd6b8b428da41dba227311a0676ed57",
            "8ddb1da5e8914dbf847886e3a07848ab",
            "ba89926b93114306a0b1df671acc83e4",
            "b9c10f8e9d7a4e079f394bb3b8c10ce9"
          ]
        },
        "id": "C7u9bGih2d3j",
        "outputId": "74a67c85-fea2-4e6a-dfb5-df3ca58f25d2"
      },
      "source": [
        "from datasets import load_dataset\n",
        "# datasets = load_dataset('text', data_files=dataset_filename, split=\"train[90%],validate\")\n",
        "eval, train = load_dataset('text', data_files='/content/drive/MyDrive/ML-Vesti/' + dataset_filename, split=['train[:10%]', 'train[10%:]'])\n",
        "def prepare_for_trainer(example):\n",
        "  tokenized = tokenizer(example['text'], truncation=True, padding='max_length', max_length=20)\n",
        "  tokenized[\"labels\"] = tokenized[\"input_ids\"].copy()\n",
        "  return tokenized\n",
        "tokenized_train = train.map(prepare_for_trainer, num_proc=2, remove_columns=[\"text\"])\n",
        "tokenized_eval = eval.map(prepare_for_trainer, num_proc=2, remove_columns=[\"text\"])\n"
      ],
      "execution_count": 7,
      "outputs": [
        {
          "output_type": "stream",
          "text": [
            "Using custom data configuration default-9b16dadd29989af1\n"
          ],
          "name": "stderr"
        },
        {
          "output_type": "stream",
          "text": [
            "Downloading and preparing dataset text/default (download: Unknown size, generated: Unknown size, post-processed: Unknown size, total: Unknown size) to /root/.cache/huggingface/datasets/text/default-9b16dadd29989af1/0.0.0/e16f44aa1b321ece1f87b07977cc5d70be93d69b20486d6dacd62e12cf25c9a5...\n"
          ],
          "name": "stdout"
        },
        {
          "output_type": "display_data",
          "data": {
            "application/vnd.jupyter.widget-view+json": {
              "model_id": "571043c05b2044c7873538df4fe28f67",
              "version_minor": 0,
              "version_major": 2
            },
            "text/plain": [
              "HBox(children=(FloatProgress(value=1.0, bar_style='info', max=1.0), HTML(value='')))"
            ]
          },
          "metadata": {
            "tags": []
          }
        },
        {
          "output_type": "stream",
          "text": [
            "\rDataset text downloaded and prepared to /root/.cache/huggingface/datasets/text/default-9b16dadd29989af1/0.0.0/e16f44aa1b321ece1f87b07977cc5d70be93d69b20486d6dacd62e12cf25c9a5. Subsequent calls will reuse this data.\n",
            " "
          ],
          "name": "stdout"
        },
        {
          "output_type": "display_data",
          "data": {
            "application/vnd.jupyter.widget-view+json": {
              "model_id": "a64fc5652df4407ab8212a5cd6757f43",
              "version_minor": 0,
              "version_major": 2
            },
            "text/plain": [
              "HBox(children=(FloatProgress(value=0.0, description=' #0', max=984352.0, style=ProgressStyle(description_width…"
            ]
          },
          "metadata": {
            "tags": []
          }
        },
        {
          "output_type": "stream",
          "text": [
            " "
          ],
          "name": "stdout"
        },
        {
          "output_type": "display_data",
          "data": {
            "application/vnd.jupyter.widget-view+json": {
              "model_id": "8520db4d87a949ba890c8b2d669e4530",
              "version_minor": 0,
              "version_major": 2
            },
            "text/plain": [
              "HBox(children=(FloatProgress(value=0.0, description=' #1', max=984351.0, style=ProgressStyle(description_width…"
            ]
          },
          "metadata": {
            "tags": []
          }
        },
        {
          "output_type": "stream",
          "text": [
            "\n",
            "\n",
            "  "
          ],
          "name": "stdout"
        },
        {
          "output_type": "display_data",
          "data": {
            "application/vnd.jupyter.widget-view+json": {
              "model_id": "2dda8f43b204474b8611ce0f2c6d4603",
              "version_minor": 0,
              "version_major": 2
            },
            "text/plain": [
              "HBox(children=(FloatProgress(value=0.0, description=' #0', max=109373.0, style=ProgressStyle(description_width…"
            ]
          },
          "metadata": {
            "tags": []
          }
        },
        {
          "output_type": "display_data",
          "data": {
            "application/vnd.jupyter.widget-view+json": {
              "model_id": "cb5abddc39474a4ab421928f0d765998",
              "version_minor": 0,
              "version_major": 2
            },
            "text/plain": [
              "HBox(children=(FloatProgress(value=0.0, description=' #1', max=109372.0, style=ProgressStyle(description_width…"
            ]
          },
          "metadata": {
            "tags": []
          }
        },
        {
          "output_type": "stream",
          "text": [
            "\n",
            "\n"
          ],
          "name": "stdout"
        }
      ]
    },
    {
      "cell_type": "code",
      "metadata": {
        "id": "6ofZqnie2YFK",
        "colab": {
          "base_uri": "https://localhost:8080/",
          "height": 115,
          "referenced_widgets": [
            "6cca9ecd07ff47f3882fcf1ac449b973",
            "4aa9755148b84f1682ec9387c5d837cc",
            "b703f234eb7e435f87a1eb29e3bcdc5c",
            "b09045becf224064a7994a5e2299ab85",
            "fb836eea1d724d73b61d8b3709ec7e72",
            "b035102a6a1e443b9987859e15dddd52",
            "b59bdac9c62648fe823bc21ad8835c42",
            "4e389351e8824238b1dc58cabc39f634",
            "8f1a5ac2eaaf48458af6a5d280d24959",
            "3ac56f8982834c17a28135de7375cdf8",
            "2f9edf43294d4c0ebfc081541631f6af",
            "e8d3b692ca0144e585b33c412611e45d",
            "e2725f9654bf4870901957f76a5ae06c",
            "135d822deac64e199fb8bc80bee22d37",
            "35c041e79c0041759509855b34f6f207",
            "2686fb1f1be74f7a952633bed9325b71"
          ]
        },
        "outputId": "008197a7-3ac1-425c-dfcf-83c0c46d72f2"
      },
      "source": [
        "from transformers import Trainer, AutoConfig, AutoModelForCausalLM, TrainingArguments\n",
        "\n",
        "config = AutoConfig.from_pretrained(pretrained_model_name)\n",
        "model = AutoModelForCausalLM.from_pretrained(pretrained_model_name)\n",
        "# model.to('cuda:0')\n",
        "training_args = TrainingArguments(\n",
        "    # new_model_name,\n",
        "    output_dir='/content/drive/MyDrive/ML-Vesti/' + new_model_name,\n",
        "    evaluation_strategy = \"epoch\",\n",
        "    learning_rate=5e-5,\n",
        "    weight_decay=0.01,\n",
        "    save_strategy='epoch',\n",
        "    num_train_epochs=7,\n",
        "    per_device_train_batch_size=128,\n",
        "    per_device_eval_batch_size=128,\n",
        "    save_total_limit=2,\n",
        ")\n",
        "\n",
        "trainer = Trainer(\n",
        "    model=model,\n",
        "    args=training_args,\n",
        "    train_dataset=tokenized_train,\n",
        "    eval_dataset=tokenized_eval,\n",
        "    # prediction_loss_only=True,\n",
        "    tokenizer=tokenizer,\n",
        ")\n"
      ],
      "execution_count": 8,
      "outputs": [
        {
          "output_type": "display_data",
          "data": {
            "application/vnd.jupyter.widget-view+json": {
              "model_id": "6cca9ecd07ff47f3882fcf1ac449b973",
              "version_minor": 0,
              "version_major": 2
            },
            "text/plain": [
              "HBox(children=(FloatProgress(value=0.0, description='Downloading', max=665.0, style=ProgressStyle(description_…"
            ]
          },
          "metadata": {
            "tags": []
          }
        },
        {
          "output_type": "stream",
          "text": [
            "\n"
          ],
          "name": "stdout"
        },
        {
          "output_type": "display_data",
          "data": {
            "application/vnd.jupyter.widget-view+json": {
              "model_id": "8f1a5ac2eaaf48458af6a5d280d24959",
              "version_minor": 0,
              "version_major": 2
            },
            "text/plain": [
              "HBox(children=(FloatProgress(value=0.0, description='Downloading', max=548118077.0, style=ProgressStyle(descri…"
            ]
          },
          "metadata": {
            "tags": []
          }
        },
        {
          "output_type": "stream",
          "text": [
            "\n"
          ],
          "name": "stdout"
        }
      ]
    },
    {
      "cell_type": "code",
      "metadata": {
        "colab": {
          "base_uri": "https://localhost:8080/"
        },
        "id": "xCCTsE68F8c3",
        "outputId": "2a461f81-6cbd-4b56-b6bf-e4ccf1631a87"
      },
      "source": [
        "import logging\n",
        "logger = logging.getLogger(__name__)\n",
        "logger.warning(\n",
        "        \"Process rank: %s, device: %s, n_gpu: %s, distributed training: %s, 16-bits training: %s\",\n",
        "        training_args.local_rank,\n",
        "        training_args.device,\n",
        "        training_args.n_gpu,\n",
        "        bool(training_args.local_rank != -1),\n",
        "        training_args.fp16,\n",
        "    )"
      ],
      "execution_count": 9,
      "outputs": [
        {
          "output_type": "stream",
          "text": [
            "Process rank: -1, device: cuda:0, n_gpu: 1, distributed training: False, 16-bits training: False\n"
          ],
          "name": "stderr"
        }
      ]
    },
    {
      "cell_type": "code",
      "metadata": {
        "id": "D8GKyjV1yelM"
      },
      "source": [
        "# import gc\n",
        "# import torch \n",
        "# model = None\n",
        "# trainer = None\n",
        "# gc.collect()\n",
        "# torch.cuda.empty_cache()"
      ],
      "execution_count": null,
      "outputs": []
    },
    {
      "cell_type": "code",
      "metadata": {
        "colab": {
          "base_uri": "https://localhost:8080/",
          "height": 1000
        },
        "id": "nECjRd3U33Xc",
        "outputId": "7aca0ad4-6d02-4608-9372-df315704a5b3"
      },
      "source": [
        "train_result = trainer.train()\n",
        "trainer.save_model('/content/drive/MyDrive/ML-Vesti/modeli/' + new_model_name)"
      ],
      "execution_count": 10,
      "outputs": [
        {
          "output_type": "stream",
          "text": [
            "***** Running training *****\n",
            "  Num examples = 1968703\n",
            "  Num Epochs = 7\n",
            "  Instantaneous batch size per device = 128\n",
            "  Total train batch size (w. parallel, distributed & accumulation) = 128\n",
            "  Gradient Accumulation steps = 1\n",
            "  Total optimization steps = 107667\n"
          ],
          "name": "stderr"
        },
        {
          "output_type": "display_data",
          "data": {
            "text/html": [
              "\n",
              "    <div>\n",
              "      \n",
              "      <progress value='107667' max='107667' style='width:300px; height:20px; vertical-align: middle;'></progress>\n",
              "      [107667/107667 12:45:04, Epoch 7/7]\n",
              "    </div>\n",
              "    <table border=\"1\" class=\"dataframe\">\n",
              "  <thead>\n",
              "    <tr style=\"text-align: left;\">\n",
              "      <th>Epoch</th>\n",
              "      <th>Training Loss</th>\n",
              "      <th>Validation Loss</th>\n",
              "    </tr>\n",
              "  </thead>\n",
              "  <tbody>\n",
              "    <tr>\n",
              "      <td>1</td>\n",
              "      <td>4.189200</td>\n",
              "      <td>4.804270</td>\n",
              "    </tr>\n",
              "    <tr>\n",
              "      <td>2</td>\n",
              "      <td>3.849300</td>\n",
              "      <td>4.414730</td>\n",
              "    </tr>\n",
              "    <tr>\n",
              "      <td>3</td>\n",
              "      <td>3.677400</td>\n",
              "      <td>4.227653</td>\n",
              "    </tr>\n",
              "    <tr>\n",
              "      <td>4</td>\n",
              "      <td>3.569300</td>\n",
              "      <td>4.118976</td>\n",
              "    </tr>\n",
              "    <tr>\n",
              "      <td>5</td>\n",
              "      <td>3.511100</td>\n",
              "      <td>4.056015</td>\n",
              "    </tr>\n",
              "    <tr>\n",
              "      <td>6</td>\n",
              "      <td>3.470400</td>\n",
              "      <td>4.017878</td>\n",
              "    </tr>\n",
              "    <tr>\n",
              "      <td>7</td>\n",
              "      <td>3.454200</td>\n",
              "      <td>4.003893</td>\n",
              "    </tr>\n",
              "  </tbody>\n",
              "</table><p>"
            ],
            "text/plain": [
              "<IPython.core.display.HTML object>"
            ]
          },
          "metadata": {
            "tags": []
          }
        },
        {
          "output_type": "stream",
          "text": [
            "***** Running Evaluation *****\n",
            "  Num examples = 218745\n",
            "  Batch size = 128\n",
            "Saving model checkpoint to /content/drive/MyDrive/ML-Vesti/gpt2_5/checkpoint-15381\n",
            "Configuration saved in /content/drive/MyDrive/ML-Vesti/gpt2_5/checkpoint-15381/config.json\n",
            "Model weights saved in /content/drive/MyDrive/ML-Vesti/gpt2_5/checkpoint-15381/pytorch_model.bin\n",
            "tokenizer config file saved in /content/drive/MyDrive/ML-Vesti/gpt2_5/checkpoint-15381/tokenizer_config.json\n",
            "Special tokens file saved in /content/drive/MyDrive/ML-Vesti/gpt2_5/checkpoint-15381/special_tokens_map.json\n",
            "***** Running Evaluation *****\n",
            "  Num examples = 218745\n",
            "  Batch size = 128\n",
            "Saving model checkpoint to /content/drive/MyDrive/ML-Vesti/gpt2_5/checkpoint-30762\n",
            "Configuration saved in /content/drive/MyDrive/ML-Vesti/gpt2_5/checkpoint-30762/config.json\n",
            "Model weights saved in /content/drive/MyDrive/ML-Vesti/gpt2_5/checkpoint-30762/pytorch_model.bin\n",
            "tokenizer config file saved in /content/drive/MyDrive/ML-Vesti/gpt2_5/checkpoint-30762/tokenizer_config.json\n",
            "Special tokens file saved in /content/drive/MyDrive/ML-Vesti/gpt2_5/checkpoint-30762/special_tokens_map.json\n",
            "***** Running Evaluation *****\n",
            "  Num examples = 218745\n",
            "  Batch size = 128\n",
            "Saving model checkpoint to /content/drive/MyDrive/ML-Vesti/gpt2_5/checkpoint-46143\n",
            "Configuration saved in /content/drive/MyDrive/ML-Vesti/gpt2_5/checkpoint-46143/config.json\n",
            "Model weights saved in /content/drive/MyDrive/ML-Vesti/gpt2_5/checkpoint-46143/pytorch_model.bin\n",
            "tokenizer config file saved in /content/drive/MyDrive/ML-Vesti/gpt2_5/checkpoint-46143/tokenizer_config.json\n",
            "Special tokens file saved in /content/drive/MyDrive/ML-Vesti/gpt2_5/checkpoint-46143/special_tokens_map.json\n",
            "Deleting older checkpoint [/content/drive/MyDrive/ML-Vesti/gpt2_5/checkpoint-15381] due to args.save_total_limit\n",
            "***** Running Evaluation *****\n",
            "  Num examples = 218745\n",
            "  Batch size = 128\n",
            "Saving model checkpoint to /content/drive/MyDrive/ML-Vesti/gpt2_5/checkpoint-61524\n",
            "Configuration saved in /content/drive/MyDrive/ML-Vesti/gpt2_5/checkpoint-61524/config.json\n",
            "Model weights saved in /content/drive/MyDrive/ML-Vesti/gpt2_5/checkpoint-61524/pytorch_model.bin\n",
            "tokenizer config file saved in /content/drive/MyDrive/ML-Vesti/gpt2_5/checkpoint-61524/tokenizer_config.json\n",
            "Special tokens file saved in /content/drive/MyDrive/ML-Vesti/gpt2_5/checkpoint-61524/special_tokens_map.json\n",
            "Deleting older checkpoint [/content/drive/MyDrive/ML-Vesti/gpt2_5/checkpoint-30762] due to args.save_total_limit\n",
            "***** Running Evaluation *****\n",
            "  Num examples = 218745\n",
            "  Batch size = 128\n",
            "Saving model checkpoint to /content/drive/MyDrive/ML-Vesti/gpt2_5/checkpoint-76905\n",
            "Configuration saved in /content/drive/MyDrive/ML-Vesti/gpt2_5/checkpoint-76905/config.json\n",
            "Model weights saved in /content/drive/MyDrive/ML-Vesti/gpt2_5/checkpoint-76905/pytorch_model.bin\n",
            "tokenizer config file saved in /content/drive/MyDrive/ML-Vesti/gpt2_5/checkpoint-76905/tokenizer_config.json\n",
            "Special tokens file saved in /content/drive/MyDrive/ML-Vesti/gpt2_5/checkpoint-76905/special_tokens_map.json\n",
            "Deleting older checkpoint [/content/drive/MyDrive/ML-Vesti/gpt2_5/checkpoint-46143] due to args.save_total_limit\n",
            "***** Running Evaluation *****\n",
            "  Num examples = 218745\n",
            "  Batch size = 128\n",
            "Saving model checkpoint to /content/drive/MyDrive/ML-Vesti/gpt2_5/checkpoint-92286\n",
            "Configuration saved in /content/drive/MyDrive/ML-Vesti/gpt2_5/checkpoint-92286/config.json\n",
            "Model weights saved in /content/drive/MyDrive/ML-Vesti/gpt2_5/checkpoint-92286/pytorch_model.bin\n",
            "tokenizer config file saved in /content/drive/MyDrive/ML-Vesti/gpt2_5/checkpoint-92286/tokenizer_config.json\n",
            "Special tokens file saved in /content/drive/MyDrive/ML-Vesti/gpt2_5/checkpoint-92286/special_tokens_map.json\n",
            "Deleting older checkpoint [/content/drive/MyDrive/ML-Vesti/gpt2_5/checkpoint-61524] due to args.save_total_limit\n",
            "***** Running Evaluation *****\n",
            "  Num examples = 218745\n",
            "  Batch size = 128\n",
            "Saving model checkpoint to /content/drive/MyDrive/ML-Vesti/gpt2_5/checkpoint-107667\n",
            "Configuration saved in /content/drive/MyDrive/ML-Vesti/gpt2_5/checkpoint-107667/config.json\n",
            "Model weights saved in /content/drive/MyDrive/ML-Vesti/gpt2_5/checkpoint-107667/pytorch_model.bin\n",
            "tokenizer config file saved in /content/drive/MyDrive/ML-Vesti/gpt2_5/checkpoint-107667/tokenizer_config.json\n",
            "Special tokens file saved in /content/drive/MyDrive/ML-Vesti/gpt2_5/checkpoint-107667/special_tokens_map.json\n",
            "Deleting older checkpoint [/content/drive/MyDrive/ML-Vesti/gpt2_5/checkpoint-76905] due to args.save_total_limit\n",
            "\n",
            "\n",
            "Training completed. Do not forget to share your model on huggingface.co/models =)\n",
            "\n",
            "\n",
            "Saving model checkpoint to /content/drive/MyDrive/ML-Vesti/modeli/gpt2_5\n",
            "Configuration saved in /content/drive/MyDrive/ML-Vesti/modeli/gpt2_5/config.json\n",
            "Model weights saved in /content/drive/MyDrive/ML-Vesti/modeli/gpt2_5/pytorch_model.bin\n",
            "tokenizer config file saved in /content/drive/MyDrive/ML-Vesti/modeli/gpt2_5/tokenizer_config.json\n",
            "Special tokens file saved in /content/drive/MyDrive/ML-Vesti/modeli/gpt2_5/special_tokens_map.json\n"
          ],
          "name": "stderr"
        }
      ]
    },
    {
      "cell_type": "code",
      "metadata": {
        "colab": {
          "base_uri": "https://localhost:8080/"
        },
        "id": "wo9BgkuViPS6",
        "outputId": "89c8dc33-5fd8-4980-d728-21b12dfb5226"
      },
      "source": [
        "trainer.save_model('/content/drive/MyDrive/ML-Vesti/modeli/' + new_model_name)"
      ],
      "execution_count": 13,
      "outputs": [
        {
          "output_type": "stream",
          "text": [
            "Saving model checkpoint to /content/drive/MyDrive/ML-Vesti/modeli/gpt2_5\n",
            "Configuration saved in /content/drive/MyDrive/ML-Vesti/modeli/gpt2_5/config.json\n",
            "Model weights saved in /content/drive/MyDrive/ML-Vesti/modeli/gpt2_5/pytorch_model.bin\n",
            "tokenizer config file saved in /content/drive/MyDrive/ML-Vesti/modeli/gpt2_5/tokenizer_config.json\n",
            "Special tokens file saved in /content/drive/MyDrive/ML-Vesti/modeli/gpt2_5/special_tokens_map.json\n"
          ],
          "name": "stderr"
        }
      ]
    },
    {
      "cell_type": "code",
      "metadata": {
        "id": "5m-c2dyTQLLk",
        "colab": {
          "base_uri": "https://localhost:8080/"
        },
        "outputId": "15d4b9a8-3174-4e1b-9b53-9239b729beab"
      },
      "source": [
        "import numpy as np\n",
        "from transformers import AutoModelForCausalLM\n",
        "\n",
        "model = AutoModelForCausalLM.from_pretrained('/content/drive/MyDrive/ML-Vesti/modeli/' + new_model_name)\n",
        "model.config.pad_token_id = 1\n",
        "\n",
        "for temp in np.linspace(0.2, 2, 10):\n",
        "    print()\n",
        "    print(\"###### Temperature: \" + str(temp))\n",
        "    for i in range(0, 5):\n",
        "        out = model.generate(do_sample=True, temperature=temp)[0]\n",
        "        print(tokenizer.decode(out, skip_special_tokens=True))"
      ],
      "execution_count": 11,
      "outputs": [
        {
          "output_type": "stream",
          "text": [
            "loading configuration file /content/drive/MyDrive/ML-Vesti/modeli/gpt2_5/config.json\n",
            "Model config GPT2Config {\n",
            "  \"_name_or_path\": \"gpt2\",\n",
            "  \"activation_function\": \"gelu_new\",\n",
            "  \"architectures\": [\n",
            "    \"GPT2LMHeadModel\"\n",
            "  ],\n",
            "  \"attn_pdrop\": 0.1,\n",
            "  \"bos_token_id\": 50256,\n",
            "  \"embd_pdrop\": 0.1,\n",
            "  \"eos_token_id\": 50256,\n",
            "  \"gradient_checkpointing\": false,\n",
            "  \"initializer_range\": 0.02,\n",
            "  \"layer_norm_epsilon\": 1e-05,\n",
            "  \"model_type\": \"gpt2\",\n",
            "  \"n_ctx\": 1024,\n",
            "  \"n_embd\": 768,\n",
            "  \"n_head\": 12,\n",
            "  \"n_inner\": null,\n",
            "  \"n_layer\": 12,\n",
            "  \"n_positions\": 1024,\n",
            "  \"resid_pdrop\": 0.1,\n",
            "  \"scale_attn_weights\": true,\n",
            "  \"summary_activation\": null,\n",
            "  \"summary_first_dropout\": 0.1,\n",
            "  \"summary_proj_to_labels\": true,\n",
            "  \"summary_type\": \"cls_index\",\n",
            "  \"summary_use_proj\": true,\n",
            "  \"task_specific_params\": {\n",
            "    \"text-generation\": {\n",
            "      \"do_sample\": true,\n",
            "      \"max_length\": 50\n",
            "    }\n",
            "  },\n",
            "  \"transformers_version\": \"4.8.2\",\n",
            "  \"use_cache\": true,\n",
            "  \"vocab_size\": 50257\n",
            "}\n",
            "\n",
            "loading weights file /content/drive/MyDrive/ML-Vesti/modeli/gpt2_5/pytorch_model.bin\n",
            "All model checkpoint weights were used when initializing GPT2LMHeadModel.\n",
            "\n",
            "All the weights of GPT2LMHeadModel were initialized from the model checkpoint at /content/drive/MyDrive/ML-Vesti/modeli/gpt2_5.\n",
            "If your task is similar to the task the model of the checkpoint was trained on, you can already use GPT2LMHeadModel for predictions without further training.\n"
          ],
          "name": "stderr"
        },
        {
          "output_type": "stream",
          "text": [
            "\n",
            "###### Temperature: 0.2\n",
            "Evo šta je sve potrebno da bi se u Srbiji svi voleli\n",
            "U Srbiji se nalazi jedna od najvećih svetskih destinacijain i\n",
            "Evo kako je izgledala pre 10 godina!in u Srbiji\n",
            "Evo šta je rekao o tomein od ponedeljka\n",
            "Evo kako je izgledala pre 10 godina!in za sve koji\n",
            "\n",
            "###### Temperature: 0.4\n",
            "Ovo je pet albuma koje bi trebalo da preslušate danas (VIDEO)\n",
            "Ovo je prava istina o tome kako su u Srbiji se zarazili\n",
            "U Srbiji se ne preporučuje da se ne bi ni primećen\n",
            "Ovo je prava istina o njihovom odnosu!in: Da li je\n",
            "Ovo je bio prvi, a sada je dobio i jednu od najvećih!\n",
            "\n",
            "###### Temperature: 0.6000000000000001\n",
            "Evo šta je Darko Lazić rekao o Đokovićujte\n",
            "Posle ovog snimka, ovaj snimak je dobio ime! (VIDEO)\n",
            "Ne može da izdrži, ali se nije pojavioin i\n",
            "Na granici sa Hrvatskom se čeka i do 20 minuta! (VIDEO)\n",
            "Vučić u Srbiji: Reprezentativac u borbi protiv terorizmami\n",
            "\n",
            "###### Temperature: 0.8\n",
            "Ne žele ni da sanja da će se Vučić i Rusija boriti na izbore\n",
            "Kad je saznala da se nije čula, imala je i PORUKU!\n",
            "Pogledajte šta ćete sutra čitati u dnevnoj štampi!in 118.\n",
            "Evo ko je bio predsednik Vučić!in!\n",
            "Evo kako je izgledala sestra Dragana Nikolića!in potvrdio: U\n",
            "\n",
            "###### Temperature: 1.0\n",
            "Kada su videli ko je ubio ženu, odmah su se i ona jedva sastavio\n",
            "Vučić o nastavku, napadima na novinare i unapređenju vojske, a već će voditi granice\n",
            "Kako doživite dobar seks ljubavi? (VIDEO)!\n",
            "U Beogradu je počelo! (VIDEO)in otkrio zašto je počeo\n",
            "Sve više mladih, a jedna STVAR koju je na poslu videla su je baš U REDU (FOTO\n",
            "\n",
            "###### Temperature: 1.2\n",
            "Pogledajte ko su navijači Liverpula u Juventusuin\n",
            "Novi spot na kojoj je Nole dobio poklon na Tviteru! (FOTO)\n",
            "Izlila se u Srbiju zbog ubistva Nikole Bojovićain pozvao policiju\n",
            "Vučić sutra na otvaranju fabrike Bališa: Sačebario se sa Putinom u subotu 7\n",
            "Luna Đogani JAVNO PROMENILA LIČNI OPIS: Ko ima, svi to misle, to je moguće!\n",
            "\n",
            "###### Temperature: 1.4000000000000001\n",
            "Pre dve nedelje, posle izbora, u centru!ru\n",
            "Ovo je 5 najvećih zvezda serije! Ova fotografija sve iznenadila! (TEDEO)\n",
            "Predsednik Vučić poručio: Želimo pregovore u oblasti prava Kosovah ne veruje\n",
            "Osmeh!in do 2022.mi\n",
            "Na ovaj dan ga je stigla sudbina!in do 31. avgusta20\n",
            "\n",
            "###### Temperature: 1.6\n",
            "Zvezda dobila novi dres za pobedu od Cedevite!i, sve od\n",
            "Pogledajte kako su Srbi napali Delije Zvezdaneargein rezervi\n",
            "Đoković srušio Radnik po dolasku fudbalera (VIDEO)mirom otkrio\n",
            "U Crnoj Gori sveštenstva, ali se i u nedelju desio opšti obračun u Velikoj Albaniji\n",
            "Da li možete da dođete ovaj broj ili niko neće nositi novac u ovu državu?\n",
            "\n",
            "###### Temperature: 1.8\n",
            "Kada si sve to volela ove 3 stvari! Koristite da ga jedemo?\n",
            "U sudaru autobusa se popeo na dva i po povređenih u saobraćajkama\n",
            "Posle 17 godina nema povređenih! Sjajnu reakciju su imali teške bolesti: Od tada ćete se\n",
            "Kontinuirano delo u Nemačkoj (FOTO,)in otkrio koji\n",
            "Ovako su se Grobari srelird potvrdio:\n",
            "\n",
            "###### Temperature: 2.0\n",
            "Pevačica progovorila od prizora BOLESTI!vić se IZVITIO Trampu i najavio\n",
            "Od ponedeljka do 1. novembra za tri godine primilo 161.000 љudi građana Francuske mesečno?!\n",
            "Pogledajte snimke o njihovom nesreći  da li znate koji znak može TAČNO OVO da se SAZNA da bi\n",
            "Na putu ka Nišu! Pojeđunik nije dobro!in\n",
            "Arapcija nije mogao je ni Ligu šampiona! Dođi ko u Zagrebu bi u ovom filmu\n"
          ],
          "name": "stdout"
        }
      ]
    },
    {
      "cell_type": "code",
      "metadata": {
        "colab": {
          "base_uri": "https://localhost:8080/"
        },
        "id": "yqAKFiF2ymWp",
        "outputId": "20595f7c-429c-4a8d-a976-0d0d0bb6fdc6"
      },
      "source": [
        "!nvidia-smi -L"
      ],
      "execution_count": 12,
      "outputs": [
        {
          "output_type": "stream",
          "text": [
            "GPU 0: Tesla P100-PCIE-16GB (UUID: GPU-832f013c-d009-7915-e527-8f6e22855447)\n"
          ],
          "name": "stdout"
        }
      ]
    }
  ]
}