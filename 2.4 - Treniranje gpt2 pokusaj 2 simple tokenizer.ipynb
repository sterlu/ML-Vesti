{
  "nbformat": 4,
  "nbformat_minor": 0,
  "metadata": {
    "colab": {
      "name": "2.4 - Treniranje gpt2 pokusaj 2 simple tokenizer.ipynb",
      "provenance": [],
      "collapsed_sections": [],
      "machine_shape": "hm"
    },
    "kernelspec": {
      "name": "python3",
      "language": "python",
      "display_name": "Python 3"
    },
    "language_info": {
      "name": "python"
    },
    "accelerator": "GPU",
    "widgets": {
      "application/vnd.jupyter.widget-state+json": {
        "bc990670ab164172bdf5665274c43762": {
          "model_module": "@jupyter-widgets/controls",
          "model_name": "HBoxModel",
          "state": {
            "_view_name": "HBoxView",
            "_dom_classes": [],
            "_model_name": "HBoxModel",
            "_view_module": "@jupyter-widgets/controls",
            "_model_module_version": "1.5.0",
            "_view_count": null,
            "_view_module_version": "1.5.0",
            "box_style": "",
            "layout": "IPY_MODEL_6a5e3272e4074e1cbca0909985d927ef",
            "_model_module": "@jupyter-widgets/controls",
            "children": [
              "IPY_MODEL_70e0fe7040444f4cb55fbbb222e1635a",
              "IPY_MODEL_3962e2261a0a46a0abcd50c3613af089"
            ]
          }
        },
        "6a5e3272e4074e1cbca0909985d927ef": {
          "model_module": "@jupyter-widgets/base",
          "model_name": "LayoutModel",
          "state": {
            "_view_name": "LayoutView",
            "grid_template_rows": null,
            "right": null,
            "justify_content": null,
            "_view_module": "@jupyter-widgets/base",
            "overflow": null,
            "_model_module_version": "1.2.0",
            "_view_count": null,
            "flex_flow": null,
            "width": null,
            "min_width": null,
            "border": null,
            "align_items": null,
            "bottom": null,
            "_model_module": "@jupyter-widgets/base",
            "top": null,
            "grid_column": null,
            "overflow_y": null,
            "overflow_x": null,
            "grid_auto_flow": null,
            "grid_area": null,
            "grid_template_columns": null,
            "flex": null,
            "_model_name": "LayoutModel",
            "justify_items": null,
            "grid_row": null,
            "max_height": null,
            "align_content": null,
            "visibility": null,
            "align_self": null,
            "height": null,
            "min_height": null,
            "padding": null,
            "grid_auto_rows": null,
            "grid_gap": null,
            "max_width": null,
            "order": null,
            "_view_module_version": "1.2.0",
            "grid_template_areas": null,
            "object_position": null,
            "object_fit": null,
            "grid_auto_columns": null,
            "margin": null,
            "display": null,
            "left": null
          }
        },
        "70e0fe7040444f4cb55fbbb222e1635a": {
          "model_module": "@jupyter-widgets/controls",
          "model_name": "FloatProgressModel",
          "state": {
            "_view_name": "ProgressView",
            "style": "IPY_MODEL_53e87922078f4bbc9f4d9eef123264fe",
            "_dom_classes": [],
            "description": "",
            "_model_name": "FloatProgressModel",
            "bar_style": "info",
            "max": 1,
            "_view_module": "@jupyter-widgets/controls",
            "_model_module_version": "1.5.0",
            "value": 1,
            "_view_count": null,
            "_view_module_version": "1.5.0",
            "orientation": "horizontal",
            "min": 0,
            "description_tooltip": null,
            "_model_module": "@jupyter-widgets/controls",
            "layout": "IPY_MODEL_baf40ab290cf4207b93a64f6ec94139c"
          }
        },
        "3962e2261a0a46a0abcd50c3613af089": {
          "model_module": "@jupyter-widgets/controls",
          "model_name": "HTMLModel",
          "state": {
            "_view_name": "HTMLView",
            "style": "IPY_MODEL_28f02b672d174abd91c71cbdddcf37e6",
            "_dom_classes": [],
            "description": "",
            "_model_name": "HTMLModel",
            "placeholder": "​",
            "_view_module": "@jupyter-widgets/controls",
            "_model_module_version": "1.5.0",
            "value": " 15/? [00:02&lt;00:00,  5.48 tables/s]",
            "_view_count": null,
            "_view_module_version": "1.5.0",
            "description_tooltip": null,
            "_model_module": "@jupyter-widgets/controls",
            "layout": "IPY_MODEL_e0480aea86244c82a32e5b6162c8bddc"
          }
        },
        "53e87922078f4bbc9f4d9eef123264fe": {
          "model_module": "@jupyter-widgets/controls",
          "model_name": "ProgressStyleModel",
          "state": {
            "_view_name": "StyleView",
            "_model_name": "ProgressStyleModel",
            "description_width": "initial",
            "_view_module": "@jupyter-widgets/base",
            "_model_module_version": "1.5.0",
            "_view_count": null,
            "_view_module_version": "1.2.0",
            "bar_color": null,
            "_model_module": "@jupyter-widgets/controls"
          }
        },
        "baf40ab290cf4207b93a64f6ec94139c": {
          "model_module": "@jupyter-widgets/base",
          "model_name": "LayoutModel",
          "state": {
            "_view_name": "LayoutView",
            "grid_template_rows": null,
            "right": null,
            "justify_content": null,
            "_view_module": "@jupyter-widgets/base",
            "overflow": null,
            "_model_module_version": "1.2.0",
            "_view_count": null,
            "flex_flow": null,
            "width": null,
            "min_width": null,
            "border": null,
            "align_items": null,
            "bottom": null,
            "_model_module": "@jupyter-widgets/base",
            "top": null,
            "grid_column": null,
            "overflow_y": null,
            "overflow_x": null,
            "grid_auto_flow": null,
            "grid_area": null,
            "grid_template_columns": null,
            "flex": null,
            "_model_name": "LayoutModel",
            "justify_items": null,
            "grid_row": null,
            "max_height": null,
            "align_content": null,
            "visibility": null,
            "align_self": null,
            "height": null,
            "min_height": null,
            "padding": null,
            "grid_auto_rows": null,
            "grid_gap": null,
            "max_width": null,
            "order": null,
            "_view_module_version": "1.2.0",
            "grid_template_areas": null,
            "object_position": null,
            "object_fit": null,
            "grid_auto_columns": null,
            "margin": null,
            "display": null,
            "left": null
          }
        },
        "28f02b672d174abd91c71cbdddcf37e6": {
          "model_module": "@jupyter-widgets/controls",
          "model_name": "DescriptionStyleModel",
          "state": {
            "_view_name": "StyleView",
            "_model_name": "DescriptionStyleModel",
            "description_width": "",
            "_view_module": "@jupyter-widgets/base",
            "_model_module_version": "1.5.0",
            "_view_count": null,
            "_view_module_version": "1.2.0",
            "_model_module": "@jupyter-widgets/controls"
          }
        },
        "e0480aea86244c82a32e5b6162c8bddc": {
          "model_module": "@jupyter-widgets/base",
          "model_name": "LayoutModel",
          "state": {
            "_view_name": "LayoutView",
            "grid_template_rows": null,
            "right": null,
            "justify_content": null,
            "_view_module": "@jupyter-widgets/base",
            "overflow": null,
            "_model_module_version": "1.2.0",
            "_view_count": null,
            "flex_flow": null,
            "width": null,
            "min_width": null,
            "border": null,
            "align_items": null,
            "bottom": null,
            "_model_module": "@jupyter-widgets/base",
            "top": null,
            "grid_column": null,
            "overflow_y": null,
            "overflow_x": null,
            "grid_auto_flow": null,
            "grid_area": null,
            "grid_template_columns": null,
            "flex": null,
            "_model_name": "LayoutModel",
            "justify_items": null,
            "grid_row": null,
            "max_height": null,
            "align_content": null,
            "visibility": null,
            "align_self": null,
            "height": null,
            "min_height": null,
            "padding": null,
            "grid_auto_rows": null,
            "grid_gap": null,
            "max_width": null,
            "order": null,
            "_view_module_version": "1.2.0",
            "grid_template_areas": null,
            "object_position": null,
            "object_fit": null,
            "grid_auto_columns": null,
            "margin": null,
            "display": null,
            "left": null
          }
        },
        "47855b813e3b4d7cbe8c310e9b3e7cdb": {
          "model_module": "@jupyter-widgets/controls",
          "model_name": "HBoxModel",
          "state": {
            "_view_name": "HBoxView",
            "_dom_classes": [],
            "_model_name": "HBoxModel",
            "_view_module": "@jupyter-widgets/controls",
            "_model_module_version": "1.5.0",
            "_view_count": null,
            "_view_module_version": "1.5.0",
            "box_style": "",
            "layout": "IPY_MODEL_cfd6432600364f2f9c873cec98dc8faf",
            "_model_module": "@jupyter-widgets/controls",
            "children": [
              "IPY_MODEL_0c9b6681ce414234883a39b7955b413f",
              "IPY_MODEL_32cccada12de48079aba0e2b551f6c1a"
            ]
          }
        },
        "cfd6432600364f2f9c873cec98dc8faf": {
          "model_module": "@jupyter-widgets/base",
          "model_name": "LayoutModel",
          "state": {
            "_view_name": "LayoutView",
            "grid_template_rows": null,
            "right": null,
            "justify_content": null,
            "_view_module": "@jupyter-widgets/base",
            "overflow": null,
            "_model_module_version": "1.2.0",
            "_view_count": null,
            "flex_flow": null,
            "width": null,
            "min_width": null,
            "border": null,
            "align_items": null,
            "bottom": null,
            "_model_module": "@jupyter-widgets/base",
            "top": null,
            "grid_column": null,
            "overflow_y": null,
            "overflow_x": null,
            "grid_auto_flow": null,
            "grid_area": null,
            "grid_template_columns": null,
            "flex": null,
            "_model_name": "LayoutModel",
            "justify_items": null,
            "grid_row": null,
            "max_height": null,
            "align_content": null,
            "visibility": null,
            "align_self": null,
            "height": null,
            "min_height": null,
            "padding": null,
            "grid_auto_rows": null,
            "grid_gap": null,
            "max_width": null,
            "order": null,
            "_view_module_version": "1.2.0",
            "grid_template_areas": null,
            "object_position": null,
            "object_fit": null,
            "grid_auto_columns": null,
            "margin": null,
            "display": null,
            "left": null
          }
        },
        "0c9b6681ce414234883a39b7955b413f": {
          "model_module": "@jupyter-widgets/controls",
          "model_name": "FloatProgressModel",
          "state": {
            "_view_name": "ProgressView",
            "style": "IPY_MODEL_eb9b50d8e49549058d7ff2bd84def2d5",
            "_dom_classes": [],
            "description": " #0: 100%",
            "_model_name": "FloatProgressModel",
            "bar_style": "success",
            "max": 984352,
            "_view_module": "@jupyter-widgets/controls",
            "_model_module_version": "1.5.0",
            "value": 984352,
            "_view_count": null,
            "_view_module_version": "1.5.0",
            "orientation": "horizontal",
            "min": 0,
            "description_tooltip": null,
            "_model_module": "@jupyter-widgets/controls",
            "layout": "IPY_MODEL_8e8d0902b02c401caacf2e0a19abeaad"
          }
        },
        "32cccada12de48079aba0e2b551f6c1a": {
          "model_module": "@jupyter-widgets/controls",
          "model_name": "HTMLModel",
          "state": {
            "_view_name": "HTMLView",
            "style": "IPY_MODEL_6aa05e17d0ee4b51ac380bd4a57bc392",
            "_dom_classes": [],
            "description": "",
            "_model_name": "HTMLModel",
            "placeholder": "​",
            "_view_module": "@jupyter-widgets/controls",
            "_model_module_version": "1.5.0",
            "value": " 984352/984352 [07:27&lt;00:00, 2198.47ex/s]",
            "_view_count": null,
            "_view_module_version": "1.5.0",
            "description_tooltip": null,
            "_model_module": "@jupyter-widgets/controls",
            "layout": "IPY_MODEL_934ba77813c54810ac1de552ee265f51"
          }
        },
        "eb9b50d8e49549058d7ff2bd84def2d5": {
          "model_module": "@jupyter-widgets/controls",
          "model_name": "ProgressStyleModel",
          "state": {
            "_view_name": "StyleView",
            "_model_name": "ProgressStyleModel",
            "description_width": "initial",
            "_view_module": "@jupyter-widgets/base",
            "_model_module_version": "1.5.0",
            "_view_count": null,
            "_view_module_version": "1.2.0",
            "bar_color": null,
            "_model_module": "@jupyter-widgets/controls"
          }
        },
        "8e8d0902b02c401caacf2e0a19abeaad": {
          "model_module": "@jupyter-widgets/base",
          "model_name": "LayoutModel",
          "state": {
            "_view_name": "LayoutView",
            "grid_template_rows": null,
            "right": null,
            "justify_content": null,
            "_view_module": "@jupyter-widgets/base",
            "overflow": null,
            "_model_module_version": "1.2.0",
            "_view_count": null,
            "flex_flow": null,
            "width": null,
            "min_width": null,
            "border": null,
            "align_items": null,
            "bottom": null,
            "_model_module": "@jupyter-widgets/base",
            "top": null,
            "grid_column": null,
            "overflow_y": null,
            "overflow_x": null,
            "grid_auto_flow": null,
            "grid_area": null,
            "grid_template_columns": null,
            "flex": null,
            "_model_name": "LayoutModel",
            "justify_items": null,
            "grid_row": null,
            "max_height": null,
            "align_content": null,
            "visibility": null,
            "align_self": null,
            "height": null,
            "min_height": null,
            "padding": null,
            "grid_auto_rows": null,
            "grid_gap": null,
            "max_width": null,
            "order": null,
            "_view_module_version": "1.2.0",
            "grid_template_areas": null,
            "object_position": null,
            "object_fit": null,
            "grid_auto_columns": null,
            "margin": null,
            "display": null,
            "left": null
          }
        },
        "6aa05e17d0ee4b51ac380bd4a57bc392": {
          "model_module": "@jupyter-widgets/controls",
          "model_name": "DescriptionStyleModel",
          "state": {
            "_view_name": "StyleView",
            "_model_name": "DescriptionStyleModel",
            "description_width": "",
            "_view_module": "@jupyter-widgets/base",
            "_model_module_version": "1.5.0",
            "_view_count": null,
            "_view_module_version": "1.2.0",
            "_model_module": "@jupyter-widgets/controls"
          }
        },
        "934ba77813c54810ac1de552ee265f51": {
          "model_module": "@jupyter-widgets/base",
          "model_name": "LayoutModel",
          "state": {
            "_view_name": "LayoutView",
            "grid_template_rows": null,
            "right": null,
            "justify_content": null,
            "_view_module": "@jupyter-widgets/base",
            "overflow": null,
            "_model_module_version": "1.2.0",
            "_view_count": null,
            "flex_flow": null,
            "width": null,
            "min_width": null,
            "border": null,
            "align_items": null,
            "bottom": null,
            "_model_module": "@jupyter-widgets/base",
            "top": null,
            "grid_column": null,
            "overflow_y": null,
            "overflow_x": null,
            "grid_auto_flow": null,
            "grid_area": null,
            "grid_template_columns": null,
            "flex": null,
            "_model_name": "LayoutModel",
            "justify_items": null,
            "grid_row": null,
            "max_height": null,
            "align_content": null,
            "visibility": null,
            "align_self": null,
            "height": null,
            "min_height": null,
            "padding": null,
            "grid_auto_rows": null,
            "grid_gap": null,
            "max_width": null,
            "order": null,
            "_view_module_version": "1.2.0",
            "grid_template_areas": null,
            "object_position": null,
            "object_fit": null,
            "grid_auto_columns": null,
            "margin": null,
            "display": null,
            "left": null
          }
        },
        "c5ce95a57fa94f858a856856a705f8c3": {
          "model_module": "@jupyter-widgets/controls",
          "model_name": "HBoxModel",
          "state": {
            "_view_name": "HBoxView",
            "_dom_classes": [],
            "_model_name": "HBoxModel",
            "_view_module": "@jupyter-widgets/controls",
            "_model_module_version": "1.5.0",
            "_view_count": null,
            "_view_module_version": "1.5.0",
            "box_style": "",
            "layout": "IPY_MODEL_1e6b8e76e9d64ca784d771cdffcaf0fc",
            "_model_module": "@jupyter-widgets/controls",
            "children": [
              "IPY_MODEL_2be877a903f04214845d9c66f38c171e",
              "IPY_MODEL_f2f0c68d852a49d5ac585b1c0a5fe404"
            ]
          }
        },
        "1e6b8e76e9d64ca784d771cdffcaf0fc": {
          "model_module": "@jupyter-widgets/base",
          "model_name": "LayoutModel",
          "state": {
            "_view_name": "LayoutView",
            "grid_template_rows": null,
            "right": null,
            "justify_content": null,
            "_view_module": "@jupyter-widgets/base",
            "overflow": null,
            "_model_module_version": "1.2.0",
            "_view_count": null,
            "flex_flow": null,
            "width": null,
            "min_width": null,
            "border": null,
            "align_items": null,
            "bottom": null,
            "_model_module": "@jupyter-widgets/base",
            "top": null,
            "grid_column": null,
            "overflow_y": null,
            "overflow_x": null,
            "grid_auto_flow": null,
            "grid_area": null,
            "grid_template_columns": null,
            "flex": null,
            "_model_name": "LayoutModel",
            "justify_items": null,
            "grid_row": null,
            "max_height": null,
            "align_content": null,
            "visibility": null,
            "align_self": null,
            "height": null,
            "min_height": null,
            "padding": null,
            "grid_auto_rows": null,
            "grid_gap": null,
            "max_width": null,
            "order": null,
            "_view_module_version": "1.2.0",
            "grid_template_areas": null,
            "object_position": null,
            "object_fit": null,
            "grid_auto_columns": null,
            "margin": null,
            "display": null,
            "left": null
          }
        },
        "2be877a903f04214845d9c66f38c171e": {
          "model_module": "@jupyter-widgets/controls",
          "model_name": "FloatProgressModel",
          "state": {
            "_view_name": "ProgressView",
            "style": "IPY_MODEL_9052505589f84c649b5eb1ff98d6250e",
            "_dom_classes": [],
            "description": " #1: 100%",
            "_model_name": "FloatProgressModel",
            "bar_style": "success",
            "max": 984351,
            "_view_module": "@jupyter-widgets/controls",
            "_model_module_version": "1.5.0",
            "value": 984351,
            "_view_count": null,
            "_view_module_version": "1.5.0",
            "orientation": "horizontal",
            "min": 0,
            "description_tooltip": null,
            "_model_module": "@jupyter-widgets/controls",
            "layout": "IPY_MODEL_8ff39514a1e74ac1a77ae05603c89be3"
          }
        },
        "f2f0c68d852a49d5ac585b1c0a5fe404": {
          "model_module": "@jupyter-widgets/controls",
          "model_name": "HTMLModel",
          "state": {
            "_view_name": "HTMLView",
            "style": "IPY_MODEL_19f8a1aea2d74327aaef9a86ef21b955",
            "_dom_classes": [],
            "description": "",
            "_model_name": "HTMLModel",
            "placeholder": "​",
            "_view_module": "@jupyter-widgets/controls",
            "_model_module_version": "1.5.0",
            "value": " 984351/984351 [07:31&lt;00:00, 2180.66ex/s]",
            "_view_count": null,
            "_view_module_version": "1.5.0",
            "description_tooltip": null,
            "_model_module": "@jupyter-widgets/controls",
            "layout": "IPY_MODEL_d9d8553c22ef428c86f6dc82088fb3aa"
          }
        },
        "9052505589f84c649b5eb1ff98d6250e": {
          "model_module": "@jupyter-widgets/controls",
          "model_name": "ProgressStyleModel",
          "state": {
            "_view_name": "StyleView",
            "_model_name": "ProgressStyleModel",
            "description_width": "initial",
            "_view_module": "@jupyter-widgets/base",
            "_model_module_version": "1.5.0",
            "_view_count": null,
            "_view_module_version": "1.2.0",
            "bar_color": null,
            "_model_module": "@jupyter-widgets/controls"
          }
        },
        "8ff39514a1e74ac1a77ae05603c89be3": {
          "model_module": "@jupyter-widgets/base",
          "model_name": "LayoutModel",
          "state": {
            "_view_name": "LayoutView",
            "grid_template_rows": null,
            "right": null,
            "justify_content": null,
            "_view_module": "@jupyter-widgets/base",
            "overflow": null,
            "_model_module_version": "1.2.0",
            "_view_count": null,
            "flex_flow": null,
            "width": null,
            "min_width": null,
            "border": null,
            "align_items": null,
            "bottom": null,
            "_model_module": "@jupyter-widgets/base",
            "top": null,
            "grid_column": null,
            "overflow_y": null,
            "overflow_x": null,
            "grid_auto_flow": null,
            "grid_area": null,
            "grid_template_columns": null,
            "flex": null,
            "_model_name": "LayoutModel",
            "justify_items": null,
            "grid_row": null,
            "max_height": null,
            "align_content": null,
            "visibility": null,
            "align_self": null,
            "height": null,
            "min_height": null,
            "padding": null,
            "grid_auto_rows": null,
            "grid_gap": null,
            "max_width": null,
            "order": null,
            "_view_module_version": "1.2.0",
            "grid_template_areas": null,
            "object_position": null,
            "object_fit": null,
            "grid_auto_columns": null,
            "margin": null,
            "display": null,
            "left": null
          }
        },
        "19f8a1aea2d74327aaef9a86ef21b955": {
          "model_module": "@jupyter-widgets/controls",
          "model_name": "DescriptionStyleModel",
          "state": {
            "_view_name": "StyleView",
            "_model_name": "DescriptionStyleModel",
            "description_width": "",
            "_view_module": "@jupyter-widgets/base",
            "_model_module_version": "1.5.0",
            "_view_count": null,
            "_view_module_version": "1.2.0",
            "_model_module": "@jupyter-widgets/controls"
          }
        },
        "d9d8553c22ef428c86f6dc82088fb3aa": {
          "model_module": "@jupyter-widgets/base",
          "model_name": "LayoutModel",
          "state": {
            "_view_name": "LayoutView",
            "grid_template_rows": null,
            "right": null,
            "justify_content": null,
            "_view_module": "@jupyter-widgets/base",
            "overflow": null,
            "_model_module_version": "1.2.0",
            "_view_count": null,
            "flex_flow": null,
            "width": null,
            "min_width": null,
            "border": null,
            "align_items": null,
            "bottom": null,
            "_model_module": "@jupyter-widgets/base",
            "top": null,
            "grid_column": null,
            "overflow_y": null,
            "overflow_x": null,
            "grid_auto_flow": null,
            "grid_area": null,
            "grid_template_columns": null,
            "flex": null,
            "_model_name": "LayoutModel",
            "justify_items": null,
            "grid_row": null,
            "max_height": null,
            "align_content": null,
            "visibility": null,
            "align_self": null,
            "height": null,
            "min_height": null,
            "padding": null,
            "grid_auto_rows": null,
            "grid_gap": null,
            "max_width": null,
            "order": null,
            "_view_module_version": "1.2.0",
            "grid_template_areas": null,
            "object_position": null,
            "object_fit": null,
            "grid_auto_columns": null,
            "margin": null,
            "display": null,
            "left": null
          }
        },
        "66bb6af3c88f45028b1e459df27e9c38": {
          "model_module": "@jupyter-widgets/controls",
          "model_name": "HBoxModel",
          "state": {
            "_view_name": "HBoxView",
            "_dom_classes": [],
            "_model_name": "HBoxModel",
            "_view_module": "@jupyter-widgets/controls",
            "_model_module_version": "1.5.0",
            "_view_count": null,
            "_view_module_version": "1.5.0",
            "box_style": "",
            "layout": "IPY_MODEL_cee1599cec154963ae4f3a5653c50800",
            "_model_module": "@jupyter-widgets/controls",
            "children": [
              "IPY_MODEL_55b7ba542ec4440b8be80c4e92c56ce1",
              "IPY_MODEL_f9913b9e4e2349a1b1c80d1eabb56881"
            ]
          }
        },
        "cee1599cec154963ae4f3a5653c50800": {
          "model_module": "@jupyter-widgets/base",
          "model_name": "LayoutModel",
          "state": {
            "_view_name": "LayoutView",
            "grid_template_rows": null,
            "right": null,
            "justify_content": null,
            "_view_module": "@jupyter-widgets/base",
            "overflow": null,
            "_model_module_version": "1.2.0",
            "_view_count": null,
            "flex_flow": null,
            "width": null,
            "min_width": null,
            "border": null,
            "align_items": null,
            "bottom": null,
            "_model_module": "@jupyter-widgets/base",
            "top": null,
            "grid_column": null,
            "overflow_y": null,
            "overflow_x": null,
            "grid_auto_flow": null,
            "grid_area": null,
            "grid_template_columns": null,
            "flex": null,
            "_model_name": "LayoutModel",
            "justify_items": null,
            "grid_row": null,
            "max_height": null,
            "align_content": null,
            "visibility": null,
            "align_self": null,
            "height": null,
            "min_height": null,
            "padding": null,
            "grid_auto_rows": null,
            "grid_gap": null,
            "max_width": null,
            "order": null,
            "_view_module_version": "1.2.0",
            "grid_template_areas": null,
            "object_position": null,
            "object_fit": null,
            "grid_auto_columns": null,
            "margin": null,
            "display": null,
            "left": null
          }
        },
        "55b7ba542ec4440b8be80c4e92c56ce1": {
          "model_module": "@jupyter-widgets/controls",
          "model_name": "FloatProgressModel",
          "state": {
            "_view_name": "ProgressView",
            "style": "IPY_MODEL_4455c17916064df3becda9ca3760c8cc",
            "_dom_classes": [],
            "description": " #0: 100%",
            "_model_name": "FloatProgressModel",
            "bar_style": "success",
            "max": 109373,
            "_view_module": "@jupyter-widgets/controls",
            "_model_module_version": "1.5.0",
            "value": 109373,
            "_view_count": null,
            "_view_module_version": "1.5.0",
            "orientation": "horizontal",
            "min": 0,
            "description_tooltip": null,
            "_model_module": "@jupyter-widgets/controls",
            "layout": "IPY_MODEL_cb649ef927b34a3bafea85a89ad4656e"
          }
        },
        "f9913b9e4e2349a1b1c80d1eabb56881": {
          "model_module": "@jupyter-widgets/controls",
          "model_name": "HTMLModel",
          "state": {
            "_view_name": "HTMLView",
            "style": "IPY_MODEL_e5a3847c818649ceb8a034fc977cf0b1",
            "_dom_classes": [],
            "description": "",
            "_model_name": "HTMLModel",
            "placeholder": "​",
            "_view_module": "@jupyter-widgets/controls",
            "_model_module_version": "1.5.0",
            "value": " 109373/109373 [00:52&lt;00:00, 2073.14ex/s]",
            "_view_count": null,
            "_view_module_version": "1.5.0",
            "description_tooltip": null,
            "_model_module": "@jupyter-widgets/controls",
            "layout": "IPY_MODEL_9014fc881fe347709faba7b2d25cff29"
          }
        },
        "4455c17916064df3becda9ca3760c8cc": {
          "model_module": "@jupyter-widgets/controls",
          "model_name": "ProgressStyleModel",
          "state": {
            "_view_name": "StyleView",
            "_model_name": "ProgressStyleModel",
            "description_width": "initial",
            "_view_module": "@jupyter-widgets/base",
            "_model_module_version": "1.5.0",
            "_view_count": null,
            "_view_module_version": "1.2.0",
            "bar_color": null,
            "_model_module": "@jupyter-widgets/controls"
          }
        },
        "cb649ef927b34a3bafea85a89ad4656e": {
          "model_module": "@jupyter-widgets/base",
          "model_name": "LayoutModel",
          "state": {
            "_view_name": "LayoutView",
            "grid_template_rows": null,
            "right": null,
            "justify_content": null,
            "_view_module": "@jupyter-widgets/base",
            "overflow": null,
            "_model_module_version": "1.2.0",
            "_view_count": null,
            "flex_flow": null,
            "width": null,
            "min_width": null,
            "border": null,
            "align_items": null,
            "bottom": null,
            "_model_module": "@jupyter-widgets/base",
            "top": null,
            "grid_column": null,
            "overflow_y": null,
            "overflow_x": null,
            "grid_auto_flow": null,
            "grid_area": null,
            "grid_template_columns": null,
            "flex": null,
            "_model_name": "LayoutModel",
            "justify_items": null,
            "grid_row": null,
            "max_height": null,
            "align_content": null,
            "visibility": null,
            "align_self": null,
            "height": null,
            "min_height": null,
            "padding": null,
            "grid_auto_rows": null,
            "grid_gap": null,
            "max_width": null,
            "order": null,
            "_view_module_version": "1.2.0",
            "grid_template_areas": null,
            "object_position": null,
            "object_fit": null,
            "grid_auto_columns": null,
            "margin": null,
            "display": null,
            "left": null
          }
        },
        "e5a3847c818649ceb8a034fc977cf0b1": {
          "model_module": "@jupyter-widgets/controls",
          "model_name": "DescriptionStyleModel",
          "state": {
            "_view_name": "StyleView",
            "_model_name": "DescriptionStyleModel",
            "description_width": "",
            "_view_module": "@jupyter-widgets/base",
            "_model_module_version": "1.5.0",
            "_view_count": null,
            "_view_module_version": "1.2.0",
            "_model_module": "@jupyter-widgets/controls"
          }
        },
        "9014fc881fe347709faba7b2d25cff29": {
          "model_module": "@jupyter-widgets/base",
          "model_name": "LayoutModel",
          "state": {
            "_view_name": "LayoutView",
            "grid_template_rows": null,
            "right": null,
            "justify_content": null,
            "_view_module": "@jupyter-widgets/base",
            "overflow": null,
            "_model_module_version": "1.2.0",
            "_view_count": null,
            "flex_flow": null,
            "width": null,
            "min_width": null,
            "border": null,
            "align_items": null,
            "bottom": null,
            "_model_module": "@jupyter-widgets/base",
            "top": null,
            "grid_column": null,
            "overflow_y": null,
            "overflow_x": null,
            "grid_auto_flow": null,
            "grid_area": null,
            "grid_template_columns": null,
            "flex": null,
            "_model_name": "LayoutModel",
            "justify_items": null,
            "grid_row": null,
            "max_height": null,
            "align_content": null,
            "visibility": null,
            "align_self": null,
            "height": null,
            "min_height": null,
            "padding": null,
            "grid_auto_rows": null,
            "grid_gap": null,
            "max_width": null,
            "order": null,
            "_view_module_version": "1.2.0",
            "grid_template_areas": null,
            "object_position": null,
            "object_fit": null,
            "grid_auto_columns": null,
            "margin": null,
            "display": null,
            "left": null
          }
        },
        "43ef8b44166143e38577c51ec9ad70e0": {
          "model_module": "@jupyter-widgets/controls",
          "model_name": "HBoxModel",
          "state": {
            "_view_name": "HBoxView",
            "_dom_classes": [],
            "_model_name": "HBoxModel",
            "_view_module": "@jupyter-widgets/controls",
            "_model_module_version": "1.5.0",
            "_view_count": null,
            "_view_module_version": "1.5.0",
            "box_style": "",
            "layout": "IPY_MODEL_37d6e9aa2fa342c4b2357e961831345f",
            "_model_module": "@jupyter-widgets/controls",
            "children": [
              "IPY_MODEL_7c4b190c81744ad292abbc00c96d11a8",
              "IPY_MODEL_647cd08e8ba543f8b249a2277c4fb906"
            ]
          }
        },
        "37d6e9aa2fa342c4b2357e961831345f": {
          "model_module": "@jupyter-widgets/base",
          "model_name": "LayoutModel",
          "state": {
            "_view_name": "LayoutView",
            "grid_template_rows": null,
            "right": null,
            "justify_content": null,
            "_view_module": "@jupyter-widgets/base",
            "overflow": null,
            "_model_module_version": "1.2.0",
            "_view_count": null,
            "flex_flow": null,
            "width": null,
            "min_width": null,
            "border": null,
            "align_items": null,
            "bottom": null,
            "_model_module": "@jupyter-widgets/base",
            "top": null,
            "grid_column": null,
            "overflow_y": null,
            "overflow_x": null,
            "grid_auto_flow": null,
            "grid_area": null,
            "grid_template_columns": null,
            "flex": null,
            "_model_name": "LayoutModel",
            "justify_items": null,
            "grid_row": null,
            "max_height": null,
            "align_content": null,
            "visibility": null,
            "align_self": null,
            "height": null,
            "min_height": null,
            "padding": null,
            "grid_auto_rows": null,
            "grid_gap": null,
            "max_width": null,
            "order": null,
            "_view_module_version": "1.2.0",
            "grid_template_areas": null,
            "object_position": null,
            "object_fit": null,
            "grid_auto_columns": null,
            "margin": null,
            "display": null,
            "left": null
          }
        },
        "7c4b190c81744ad292abbc00c96d11a8": {
          "model_module": "@jupyter-widgets/controls",
          "model_name": "FloatProgressModel",
          "state": {
            "_view_name": "ProgressView",
            "style": "IPY_MODEL_9a9d33eab0c241a1a152a5b8cfd89500",
            "_dom_classes": [],
            "description": " #1: 100%",
            "_model_name": "FloatProgressModel",
            "bar_style": "success",
            "max": 109372,
            "_view_module": "@jupyter-widgets/controls",
            "_model_module_version": "1.5.0",
            "value": 109372,
            "_view_count": null,
            "_view_module_version": "1.5.0",
            "orientation": "horizontal",
            "min": 0,
            "description_tooltip": null,
            "_model_module": "@jupyter-widgets/controls",
            "layout": "IPY_MODEL_d80238f150fc4447b856745958d66c12"
          }
        },
        "647cd08e8ba543f8b249a2277c4fb906": {
          "model_module": "@jupyter-widgets/controls",
          "model_name": "HTMLModel",
          "state": {
            "_view_name": "HTMLView",
            "style": "IPY_MODEL_4f466a07c9da482d8516c428cac99d0a",
            "_dom_classes": [],
            "description": "",
            "_model_name": "HTMLModel",
            "placeholder": "​",
            "_view_module": "@jupyter-widgets/controls",
            "_model_module_version": "1.5.0",
            "value": " 109372/109372 [00:52&lt;00:00, 2099.15ex/s]",
            "_view_count": null,
            "_view_module_version": "1.5.0",
            "description_tooltip": null,
            "_model_module": "@jupyter-widgets/controls",
            "layout": "IPY_MODEL_475e0ad925364bfd8b9de2f00e695b03"
          }
        },
        "9a9d33eab0c241a1a152a5b8cfd89500": {
          "model_module": "@jupyter-widgets/controls",
          "model_name": "ProgressStyleModel",
          "state": {
            "_view_name": "StyleView",
            "_model_name": "ProgressStyleModel",
            "description_width": "initial",
            "_view_module": "@jupyter-widgets/base",
            "_model_module_version": "1.5.0",
            "_view_count": null,
            "_view_module_version": "1.2.0",
            "bar_color": null,
            "_model_module": "@jupyter-widgets/controls"
          }
        },
        "d80238f150fc4447b856745958d66c12": {
          "model_module": "@jupyter-widgets/base",
          "model_name": "LayoutModel",
          "state": {
            "_view_name": "LayoutView",
            "grid_template_rows": null,
            "right": null,
            "justify_content": null,
            "_view_module": "@jupyter-widgets/base",
            "overflow": null,
            "_model_module_version": "1.2.0",
            "_view_count": null,
            "flex_flow": null,
            "width": null,
            "min_width": null,
            "border": null,
            "align_items": null,
            "bottom": null,
            "_model_module": "@jupyter-widgets/base",
            "top": null,
            "grid_column": null,
            "overflow_y": null,
            "overflow_x": null,
            "grid_auto_flow": null,
            "grid_area": null,
            "grid_template_columns": null,
            "flex": null,
            "_model_name": "LayoutModel",
            "justify_items": null,
            "grid_row": null,
            "max_height": null,
            "align_content": null,
            "visibility": null,
            "align_self": null,
            "height": null,
            "min_height": null,
            "padding": null,
            "grid_auto_rows": null,
            "grid_gap": null,
            "max_width": null,
            "order": null,
            "_view_module_version": "1.2.0",
            "grid_template_areas": null,
            "object_position": null,
            "object_fit": null,
            "grid_auto_columns": null,
            "margin": null,
            "display": null,
            "left": null
          }
        },
        "4f466a07c9da482d8516c428cac99d0a": {
          "model_module": "@jupyter-widgets/controls",
          "model_name": "DescriptionStyleModel",
          "state": {
            "_view_name": "StyleView",
            "_model_name": "DescriptionStyleModel",
            "description_width": "",
            "_view_module": "@jupyter-widgets/base",
            "_model_module_version": "1.5.0",
            "_view_count": null,
            "_view_module_version": "1.2.0",
            "_model_module": "@jupyter-widgets/controls"
          }
        },
        "475e0ad925364bfd8b9de2f00e695b03": {
          "model_module": "@jupyter-widgets/base",
          "model_name": "LayoutModel",
          "state": {
            "_view_name": "LayoutView",
            "grid_template_rows": null,
            "right": null,
            "justify_content": null,
            "_view_module": "@jupyter-widgets/base",
            "overflow": null,
            "_model_module_version": "1.2.0",
            "_view_count": null,
            "flex_flow": null,
            "width": null,
            "min_width": null,
            "border": null,
            "align_items": null,
            "bottom": null,
            "_model_module": "@jupyter-widgets/base",
            "top": null,
            "grid_column": null,
            "overflow_y": null,
            "overflow_x": null,
            "grid_auto_flow": null,
            "grid_area": null,
            "grid_template_columns": null,
            "flex": null,
            "_model_name": "LayoutModel",
            "justify_items": null,
            "grid_row": null,
            "max_height": null,
            "align_content": null,
            "visibility": null,
            "align_self": null,
            "height": null,
            "min_height": null,
            "padding": null,
            "grid_auto_rows": null,
            "grid_gap": null,
            "max_width": null,
            "order": null,
            "_view_module_version": "1.2.0",
            "grid_template_areas": null,
            "object_position": null,
            "object_fit": null,
            "grid_auto_columns": null,
            "margin": null,
            "display": null,
            "left": null
          }
        }
      }
    }
  },
  "cells": [
    {
      "cell_type": "code",
      "metadata": {
        "id": "gFCXqFL61oBW"
      },
      "source": [
        "!pip install transformers tokenizers datasets"
      ],
      "execution_count": null,
      "outputs": []
    },
    {
      "cell_type": "code",
      "metadata": {
        "colab": {
          "base_uri": "https://localhost:8080/"
        },
        "id": "rLc92zfzGjEM",
        "outputId": "ed897283-7f23-442e-a9b2-334bd2762ce2"
      },
      "source": [
        "from google.colab import drive\n",
        "drive.mount('/content/drive')"
      ],
      "execution_count": 2,
      "outputs": [
        {
          "output_type": "stream",
          "text": [
            "Mounted at /content/drive\n"
          ],
          "name": "stdout"
        }
      ]
    },
    {
      "cell_type": "code",
      "metadata": {
        "id": "3OAXhTR91yyo"
      },
      "source": [
        "input_filename = \"naslovi_new.input\"\n",
        "dataset_filename = input_filename + '.prepared'\n",
        "pretrained_model_name = 'gpt2'\n",
        "new_model_name = pretrained_model_name + '_2'"
      ],
      "execution_count": 5,
      "outputs": []
    },
    {
      "cell_type": "code",
      "metadata": {
        "id": "MGVyAnR616yT"
      },
      "source": [
        "from transformers import PreTrainedTokenizerFast\n",
        "tokenizer = PreTrainedTokenizerFast(tokenizer_file=\"/content/drive/MyDrive/ML-Vesti/naslovi-simple-tokenizer.json\")\n",
        "tokenizer.pad_token = \"<pad>\"\n"
      ],
      "execution_count": 8,
      "outputs": []
    },
    {
      "cell_type": "code",
      "metadata": {
        "colab": {
          "base_uri": "https://localhost:8080/",
          "height": 335,
          "referenced_widgets": [
            "bc990670ab164172bdf5665274c43762",
            "6a5e3272e4074e1cbca0909985d927ef",
            "70e0fe7040444f4cb55fbbb222e1635a",
            "3962e2261a0a46a0abcd50c3613af089",
            "53e87922078f4bbc9f4d9eef123264fe",
            "baf40ab290cf4207b93a64f6ec94139c",
            "28f02b672d174abd91c71cbdddcf37e6",
            "e0480aea86244c82a32e5b6162c8bddc",
            "47855b813e3b4d7cbe8c310e9b3e7cdb",
            "cfd6432600364f2f9c873cec98dc8faf",
            "0c9b6681ce414234883a39b7955b413f",
            "32cccada12de48079aba0e2b551f6c1a",
            "eb9b50d8e49549058d7ff2bd84def2d5",
            "8e8d0902b02c401caacf2e0a19abeaad",
            "6aa05e17d0ee4b51ac380bd4a57bc392",
            "934ba77813c54810ac1de552ee265f51",
            "c5ce95a57fa94f858a856856a705f8c3",
            "1e6b8e76e9d64ca784d771cdffcaf0fc",
            "2be877a903f04214845d9c66f38c171e",
            "f2f0c68d852a49d5ac585b1c0a5fe404",
            "9052505589f84c649b5eb1ff98d6250e",
            "8ff39514a1e74ac1a77ae05603c89be3",
            "19f8a1aea2d74327aaef9a86ef21b955",
            "d9d8553c22ef428c86f6dc82088fb3aa",
            "66bb6af3c88f45028b1e459df27e9c38",
            "cee1599cec154963ae4f3a5653c50800",
            "55b7ba542ec4440b8be80c4e92c56ce1",
            "f9913b9e4e2349a1b1c80d1eabb56881",
            "4455c17916064df3becda9ca3760c8cc",
            "cb649ef927b34a3bafea85a89ad4656e",
            "e5a3847c818649ceb8a034fc977cf0b1",
            "9014fc881fe347709faba7b2d25cff29",
            "43ef8b44166143e38577c51ec9ad70e0",
            "37d6e9aa2fa342c4b2357e961831345f",
            "7c4b190c81744ad292abbc00c96d11a8",
            "647cd08e8ba543f8b249a2277c4fb906",
            "9a9d33eab0c241a1a152a5b8cfd89500",
            "d80238f150fc4447b856745958d66c12",
            "4f466a07c9da482d8516c428cac99d0a",
            "475e0ad925364bfd8b9de2f00e695b03"
          ]
        },
        "id": "C7u9bGih2d3j",
        "outputId": "8f4b2b31-09a2-4202-de6e-fd2a94a3e845"
      },
      "source": [
        "from datasets import load_dataset\n",
        "# datasets = load_dataset('text', data_files=dataset_filename, split=\"train[90%],validate\")\n",
        "eval, train = load_dataset('text', data_files='/content/drive/MyDrive/ML-Vesti/' + dataset_filename, split=['train[:10%]', 'train[10%:]'])\n",
        "def prepare_for_trainer(example):\n",
        "  tokenized = tokenizer(example['text'], truncation=True, padding='max_length', max_length=20)\n",
        "  tokenized[\"labels\"] = tokenized[\"input_ids\"].copy()\n",
        "  return tokenized\n",
        "tokenized_train = train.map(prepare_for_trainer, num_proc=2, remove_columns=[\"text\"])\n",
        "tokenized_eval = eval.map(prepare_for_trainer, num_proc=2, remove_columns=[\"text\"])\n"
      ],
      "execution_count": 9,
      "outputs": [
        {
          "output_type": "stream",
          "text": [
            "Using custom data configuration default-9b16dadd29989af1\n"
          ],
          "name": "stderr"
        },
        {
          "output_type": "stream",
          "text": [
            "Downloading and preparing dataset text/default (download: Unknown size, generated: Unknown size, post-processed: Unknown size, total: Unknown size) to /root/.cache/huggingface/datasets/text/default-9b16dadd29989af1/0.0.0/e16f44aa1b321ece1f87b07977cc5d70be93d69b20486d6dacd62e12cf25c9a5...\n"
          ],
          "name": "stdout"
        },
        {
          "output_type": "display_data",
          "data": {
            "application/vnd.jupyter.widget-view+json": {
              "model_id": "bc990670ab164172bdf5665274c43762",
              "version_minor": 0,
              "version_major": 2
            },
            "text/plain": [
              "HBox(children=(FloatProgress(value=1.0, bar_style='info', max=1.0), HTML(value='')))"
            ]
          },
          "metadata": {
            "tags": []
          }
        },
        {
          "output_type": "stream",
          "text": [
            "\rDataset text downloaded and prepared to /root/.cache/huggingface/datasets/text/default-9b16dadd29989af1/0.0.0/e16f44aa1b321ece1f87b07977cc5d70be93d69b20486d6dacd62e12cf25c9a5. Subsequent calls will reuse this data.\n",
            " "
          ],
          "name": "stdout"
        },
        {
          "output_type": "display_data",
          "data": {
            "application/vnd.jupyter.widget-view+json": {
              "model_id": "47855b813e3b4d7cbe8c310e9b3e7cdb",
              "version_minor": 0,
              "version_major": 2
            },
            "text/plain": [
              "HBox(children=(FloatProgress(value=0.0, description=' #0', max=984352.0, style=ProgressStyle(description_width…"
            ]
          },
          "metadata": {
            "tags": []
          }
        },
        {
          "output_type": "stream",
          "text": [
            " "
          ],
          "name": "stdout"
        },
        {
          "output_type": "display_data",
          "data": {
            "application/vnd.jupyter.widget-view+json": {
              "model_id": "c5ce95a57fa94f858a856856a705f8c3",
              "version_minor": 0,
              "version_major": 2
            },
            "text/plain": [
              "HBox(children=(FloatProgress(value=0.0, description=' #1', max=984351.0, style=ProgressStyle(description_width…"
            ]
          },
          "metadata": {
            "tags": []
          }
        },
        {
          "output_type": "stream",
          "text": [
            "\n",
            "\n",
            "  "
          ],
          "name": "stdout"
        },
        {
          "output_type": "display_data",
          "data": {
            "application/vnd.jupyter.widget-view+json": {
              "model_id": "66bb6af3c88f45028b1e459df27e9c38",
              "version_minor": 0,
              "version_major": 2
            },
            "text/plain": [
              "HBox(children=(FloatProgress(value=0.0, description=' #0', max=109373.0, style=ProgressStyle(description_width…"
            ]
          },
          "metadata": {
            "tags": []
          }
        },
        {
          "output_type": "display_data",
          "data": {
            "application/vnd.jupyter.widget-view+json": {
              "model_id": "43ef8b44166143e38577c51ec9ad70e0",
              "version_minor": 0,
              "version_major": 2
            },
            "text/plain": [
              "HBox(children=(FloatProgress(value=0.0, description=' #1', max=109372.0, style=ProgressStyle(description_width…"
            ]
          },
          "metadata": {
            "tags": []
          }
        },
        {
          "output_type": "stream",
          "text": [
            "\n",
            "\n"
          ],
          "name": "stdout"
        }
      ]
    },
    {
      "cell_type": "code",
      "metadata": {
        "id": "6ofZqnie2YFK"
      },
      "source": [
        "from transformers import Trainer, AutoConfig, AutoModelForCausalLM, TrainingArguments\n",
        "\n",
        "config = AutoConfig.from_pretrained(pretrained_model_name)\n",
        "model = AutoModelForCausalLM.from_pretrained(pretrained_model_name)\n",
        "# model.to('cuda:0')\n",
        "training_args = TrainingArguments(\n",
        "    # new_model_name,\n",
        "    output_dir='/content/drive/MyDrive/ML-Vesti/' + new_model_name,\n",
        "    evaluation_strategy = \"epoch\",\n",
        "    learning_rate=5e-5,\n",
        "    weight_decay=0.01,\n",
        "    save_strategy='epoch',\n",
        "    num_train_epochs=5,\n",
        "    per_device_train_batch_size=256,\n",
        "    per_device_eval_batch_size=256,\n",
        "    save_total_limit=3,\n",
        ")\n",
        "\n",
        "trainer = Trainer(\n",
        "    model=model,\n",
        "    args=training_args,\n",
        "    train_dataset=tokenized_train,\n",
        "    eval_dataset=tokenized_eval,\n",
        "    # prediction_loss_only=True,\n",
        "    tokenizer=tokenizer,\n",
        ")\n"
      ],
      "execution_count": 11,
      "outputs": []
    },
    {
      "cell_type": "code",
      "metadata": {
        "colab": {
          "base_uri": "https://localhost:8080/"
        },
        "id": "xCCTsE68F8c3",
        "outputId": "15aced24-7259-451b-9015-a0b27a8ebbcc"
      },
      "source": [
        "import logging\n",
        "logger = logging.getLogger(__name__)\n",
        "logger.warning(\n",
        "        \"Process rank: %s, device: %s, n_gpu: %s, distributed training: %s, 16-bits training: %s\",\n",
        "        training_args.local_rank,\n",
        "        training_args.device,\n",
        "        training_args.n_gpu,\n",
        "        bool(training_args.local_rank != -1),\n",
        "        training_args.fp16,\n",
        "    )"
      ],
      "execution_count": 12,
      "outputs": [
        {
          "output_type": "stream",
          "text": [
            "Process rank: -1, device: cuda:0, n_gpu: 1, distributed training: False, 16-bits training: False\n"
          ],
          "name": "stderr"
        }
      ]
    },
    {
      "cell_type": "code",
      "metadata": {
        "id": "D8GKyjV1yelM"
      },
      "source": [
        "# import gc\n",
        "# import torch \n",
        "# model = None\n",
        "# trainer = None\n",
        "# gc.collect()\n",
        "# torch.cuda.empty_cache()"
      ],
      "execution_count": null,
      "outputs": []
    },
    {
      "cell_type": "code",
      "metadata": {
        "colab": {
          "base_uri": "https://localhost:8080/",
          "height": 1000
        },
        "id": "nECjRd3U33Xc",
        "outputId": "04818561-eec2-4df1-bc2f-839733c3c20c"
      },
      "source": [
        "train_result = trainer.train()\n",
        "trainer.save_model('/content/drive/MyDrive/ML-Vesti/modeli/' + new_model_name)"
      ],
      "execution_count": 13,
      "outputs": [
        {
          "output_type": "stream",
          "text": [
            "***** Running training *****\n",
            "  Num examples = 1968703\n",
            "  Num Epochs = 5\n",
            "  Instantaneous batch size per device = 256\n",
            "  Total train batch size (w. parallel, distributed & accumulation) = 256\n",
            "  Gradient Accumulation steps = 1\n",
            "  Total optimization steps = 38455\n"
          ],
          "name": "stderr"
        },
        {
          "output_type": "display_data",
          "data": {
            "text/html": [
              "\n",
              "    <div>\n",
              "      \n",
              "      <progress value='38455' max='38455' style='width:300px; height:20px; vertical-align: middle;'></progress>\n",
              "      [38455/38455 8:26:42, Epoch 5/5]\n",
              "    </div>\n",
              "    <table border=\"1\" class=\"dataframe\">\n",
              "  <thead>\n",
              "    <tr style=\"text-align: left;\">\n",
              "      <th>Epoch</th>\n",
              "      <th>Training Loss</th>\n",
              "      <th>Validation Loss</th>\n",
              "    </tr>\n",
              "  </thead>\n",
              "  <tbody>\n",
              "    <tr>\n",
              "      <td>1</td>\n",
              "      <td>3.417100</td>\n",
              "      <td>4.030136</td>\n",
              "    </tr>\n",
              "    <tr>\n",
              "      <td>2</td>\n",
              "      <td>3.218400</td>\n",
              "      <td>3.791500</td>\n",
              "    </tr>\n",
              "    <tr>\n",
              "      <td>3</td>\n",
              "      <td>3.108100</td>\n",
              "      <td>3.676917</td>\n",
              "    </tr>\n",
              "    <tr>\n",
              "      <td>4</td>\n",
              "      <td>3.063800</td>\n",
              "      <td>3.620540</td>\n",
              "    </tr>\n",
              "    <tr>\n",
              "      <td>5</td>\n",
              "      <td>3.035600</td>\n",
              "      <td>3.603560</td>\n",
              "    </tr>\n",
              "  </tbody>\n",
              "</table><p>"
            ],
            "text/plain": [
              "<IPython.core.display.HTML object>"
            ]
          },
          "metadata": {
            "tags": []
          }
        },
        {
          "output_type": "stream",
          "text": [
            "***** Running Evaluation *****\n",
            "  Num examples = 218745\n",
            "  Batch size = 256\n",
            "Saving model checkpoint to /content/drive/MyDrive/ML-Vesti/gpt2_2/checkpoint-7691\n",
            "Configuration saved in /content/drive/MyDrive/ML-Vesti/gpt2_2/checkpoint-7691/config.json\n",
            "Model weights saved in /content/drive/MyDrive/ML-Vesti/gpt2_2/checkpoint-7691/pytorch_model.bin\n",
            "tokenizer config file saved in /content/drive/MyDrive/ML-Vesti/gpt2_2/checkpoint-7691/tokenizer_config.json\n",
            "Special tokens file saved in /content/drive/MyDrive/ML-Vesti/gpt2_2/checkpoint-7691/special_tokens_map.json\n",
            "***** Running Evaluation *****\n",
            "  Num examples = 218745\n",
            "  Batch size = 256\n",
            "Saving model checkpoint to /content/drive/MyDrive/ML-Vesti/gpt2_2/checkpoint-15382\n",
            "Configuration saved in /content/drive/MyDrive/ML-Vesti/gpt2_2/checkpoint-15382/config.json\n",
            "Model weights saved in /content/drive/MyDrive/ML-Vesti/gpt2_2/checkpoint-15382/pytorch_model.bin\n",
            "tokenizer config file saved in /content/drive/MyDrive/ML-Vesti/gpt2_2/checkpoint-15382/tokenizer_config.json\n",
            "Special tokens file saved in /content/drive/MyDrive/ML-Vesti/gpt2_2/checkpoint-15382/special_tokens_map.json\n",
            "***** Running Evaluation *****\n",
            "  Num examples = 218745\n",
            "  Batch size = 256\n",
            "Saving model checkpoint to /content/drive/MyDrive/ML-Vesti/gpt2_2/checkpoint-23073\n",
            "Configuration saved in /content/drive/MyDrive/ML-Vesti/gpt2_2/checkpoint-23073/config.json\n",
            "Model weights saved in /content/drive/MyDrive/ML-Vesti/gpt2_2/checkpoint-23073/pytorch_model.bin\n",
            "tokenizer config file saved in /content/drive/MyDrive/ML-Vesti/gpt2_2/checkpoint-23073/tokenizer_config.json\n",
            "Special tokens file saved in /content/drive/MyDrive/ML-Vesti/gpt2_2/checkpoint-23073/special_tokens_map.json\n",
            "***** Running Evaluation *****\n",
            "  Num examples = 218745\n",
            "  Batch size = 256\n",
            "Saving model checkpoint to /content/drive/MyDrive/ML-Vesti/gpt2_2/checkpoint-30764\n",
            "Configuration saved in /content/drive/MyDrive/ML-Vesti/gpt2_2/checkpoint-30764/config.json\n",
            "Model weights saved in /content/drive/MyDrive/ML-Vesti/gpt2_2/checkpoint-30764/pytorch_model.bin\n",
            "tokenizer config file saved in /content/drive/MyDrive/ML-Vesti/gpt2_2/checkpoint-30764/tokenizer_config.json\n",
            "Special tokens file saved in /content/drive/MyDrive/ML-Vesti/gpt2_2/checkpoint-30764/special_tokens_map.json\n",
            "Deleting older checkpoint [/content/drive/MyDrive/ML-Vesti/gpt2_2/checkpoint-7691] due to args.save_total_limit\n",
            "***** Running Evaluation *****\n",
            "  Num examples = 218745\n",
            "  Batch size = 256\n",
            "Saving model checkpoint to /content/drive/MyDrive/ML-Vesti/gpt2_2/checkpoint-38455\n",
            "Configuration saved in /content/drive/MyDrive/ML-Vesti/gpt2_2/checkpoint-38455/config.json\n",
            "Model weights saved in /content/drive/MyDrive/ML-Vesti/gpt2_2/checkpoint-38455/pytorch_model.bin\n",
            "tokenizer config file saved in /content/drive/MyDrive/ML-Vesti/gpt2_2/checkpoint-38455/tokenizer_config.json\n",
            "Special tokens file saved in /content/drive/MyDrive/ML-Vesti/gpt2_2/checkpoint-38455/special_tokens_map.json\n",
            "Deleting older checkpoint [/content/drive/MyDrive/ML-Vesti/gpt2_2/checkpoint-15382] due to args.save_total_limit\n",
            "\n",
            "\n",
            "Training completed. Do not forget to share your model on huggingface.co/models =)\n",
            "\n",
            "\n",
            "Saving model checkpoint to /content/drive/MyDrive/ML-Vesti/modeli/gpt2_2\n",
            "Configuration saved in /content/drive/MyDrive/ML-Vesti/modeli/gpt2_2/config.json\n",
            "Model weights saved in /content/drive/MyDrive/ML-Vesti/modeli/gpt2_2/pytorch_model.bin\n",
            "tokenizer config file saved in /content/drive/MyDrive/ML-Vesti/modeli/gpt2_2/tokenizer_config.json\n",
            "Special tokens file saved in /content/drive/MyDrive/ML-Vesti/modeli/gpt2_2/special_tokens_map.json\n"
          ],
          "name": "stderr"
        }
      ]
    },
    {
      "cell_type": "code",
      "metadata": {
        "colab": {
          "base_uri": "https://localhost:8080/"
        },
        "id": "5m-c2dyTQLLk",
        "outputId": "c138bdf5-39ad-45b4-f52d-8360cb135ec9"
      },
      "source": [
        "import numpy as np\n",
        "from transformers import AutoModelForCausalLM\n",
        "\n",
        "model = AutoModelForCausalLM.from_pretrained('/content/drive/MyDrive/ML-Vesti/modeli/' + new_model_name)\n",
        "model.config.pad_token_id = 1\n",
        "\n",
        "for temp in np.linspace(0.2, 2, 10):\n",
        "    print()\n",
        "    print(\"###### Temperature: \" + str(temp))\n",
        "    for i in range(0, 5):\n",
        "        out = model.generate(do_sample=True, temperature=temp)[0]\n",
        "        print(tokenizer.decode(out, skip_special_tokens=True))"
      ],
      "execution_count": 14,
      "outputs": [
        {
          "output_type": "stream",
          "text": [
            "loading configuration file /content/drive/MyDrive/ML-Vesti/modeli/gpt2_2/config.json\n",
            "Model config GPT2Config {\n",
            "  \"_name_or_path\": \"gpt2\",\n",
            "  \"activation_function\": \"gelu_new\",\n",
            "  \"architectures\": [\n",
            "    \"GPT2LMHeadModel\"\n",
            "  ],\n",
            "  \"attn_pdrop\": 0.1,\n",
            "  \"bos_token_id\": 50256,\n",
            "  \"embd_pdrop\": 0.1,\n",
            "  \"eos_token_id\": 50256,\n",
            "  \"gradient_checkpointing\": false,\n",
            "  \"initializer_range\": 0.02,\n",
            "  \"layer_norm_epsilon\": 1e-05,\n",
            "  \"model_type\": \"gpt2\",\n",
            "  \"n_ctx\": 1024,\n",
            "  \"n_embd\": 768,\n",
            "  \"n_head\": 12,\n",
            "  \"n_inner\": null,\n",
            "  \"n_layer\": 12,\n",
            "  \"n_positions\": 1024,\n",
            "  \"resid_pdrop\": 0.1,\n",
            "  \"scale_attn_weights\": true,\n",
            "  \"summary_activation\": null,\n",
            "  \"summary_first_dropout\": 0.1,\n",
            "  \"summary_proj_to_labels\": true,\n",
            "  \"summary_type\": \"cls_index\",\n",
            "  \"summary_use_proj\": true,\n",
            "  \"task_specific_params\": {\n",
            "    \"text-generation\": {\n",
            "      \"do_sample\": true,\n",
            "      \"max_length\": 50\n",
            "    }\n",
            "  },\n",
            "  \"transformers_version\": \"4.8.2\",\n",
            "  \"use_cache\": true,\n",
            "  \"vocab_size\": 50257\n",
            "}\n",
            "\n",
            "loading weights file /content/drive/MyDrive/ML-Vesti/modeli/gpt2_2/pytorch_model.bin\n",
            "All model checkpoint weights were used when initializing GPT2LMHeadModel.\n",
            "\n",
            "All the weights of GPT2LMHeadModel were initialized from the model checkpoint at /content/drive/MyDrive/ML-Vesti/modeli/gpt2_2.\n",
            "If your task is similar to the task the model of the checkpoint was trained on, you can already use GPT2LMHeadModel for predictions without further training.\n"
          ],
          "name": "stderr"
        },
        {
          "output_type": "stream",
          "text": [
            "\n",
            "###### Temperature: 0.2\n",
            "! biti!\n",
            "biti! biti\n",
            "biti\n",
            "biti! biti\n",
            "biti\n",
            "\n",
            "###### Temperature: 0.4\n",
            "u biti\n",
            ",,,...\n",
            "biti\n",
            "i, i biti!\n",
            ": je da, a da ne! biti\n",
            "\n",
            "###### Temperature: 0.6000000000000001\n",
            "se, a evo šta su joj poručili! ( VIDEO )\n",
            "u! imati biti kao\n",
            ",,\n",
            "Partizan se, i biti kao u prvom meču\n",
            "Sve je spremno za, ali su i! biti\n",
            "\n",
            "###### Temperature: 0.8\n",
            "Ovo je prvi put da znate koji srpski, u toku je se\n",
            "Tramp čestitao Putinu rođendan biti na snazi način\n",
            "za! biti na današnji dan u redu redu redu\n",
            "! BITI!,\n",
            "Evo kako da rešite da u, a da i za.\n",
            "\n",
            "###### Temperature: 1.0\n",
            "u borbi protiv koronavirusa se NA SUDU MESTU GODINE\n",
            "se od muke bolesti! živeti i još jedan napad\n",
            "U Nišu od sutra do doći što ga je čeka!\n",
            "Muškarac uboden na Adi u Borči se videti ( VIDEO )\n",
            "na smrt, u šoku ću umreti, a onda je na... ( VIDEO\n",
            "\n",
            "###### Temperature: 1.2\n",
            "Od sutra otvaranje bolnica za 100 evra morati da ga zbog jedne BOLESTI radnji\n",
            "Evo zašto će sve izgledati padavine pacijenata na respiratoru večeri morati na virus,\n",
            "Zvezda nastavlja da nastavlja sa na Novom Beogradu! doći do pobede na\n",
            "Zbog njegovog kolapsa bolesti, ceo SVET SE UBIO!\n",
            "Da li su Albanci u Kini? ( UŽIVO ) biti,\n",
            "\n",
            "###### Temperature: 1.4000000000000001\n",
            "On ima seks reči jer može i da plati BITI LUDNICA\n",
            "Zbog njih niko ne zanima mi na sebi! ( FOTO ) do kraja\n",
            "Pogledajte kakav film dan zaista imaju bivši dečko Jelene Golubović! ( VIDEO )\n",
            "Za manje od 20 meseci je potrebno 9 evra mesečno kilograma ( FOTO )\n",
            "Zbog ovog poteza promena su iz snova emisije, ali nije i\n",
            "\n",
            "###### Temperature: 1.6\n",
            "Svi će morati BEZ MILOSTI ponašanja RATA? Ima li ovo veze?! ( FOTO )\n",
            "se za, do temelja detalja, a kad vidite kako se sad zove UŽAS\n",
            "U Španiji pronađeno beživotno telo povrede kod Vrnjačke Banje fronta odeljenja verovati šta\n",
            "Sve spremno zbog mita testa na Ibarskoj magistrali! se čuti velika TRAGEDIJA ove\n",
            "Nova pravila za bebe : A u kući može! VIDEO\n",
            "\n",
            "###### Temperature: 1.8\n",
            "Da bih mogao imao šanse? ( AUDIO ) se plašite ovaj I\n",
            "Danas je velika misterija stvar uz Blic vam jezik godine! početi!\n",
            "Zbog njene oluje snimka ćerke Parova, nisu mogli samo jedno! ( FOTO )\n",
            ": Ako je, po sebi da imaš pritisak ga platiti\n",
            "Kad ovo čuje sve Delije ne podnose je! ( FOTO GALERIJA ) pasti\n",
            "\n",
            "###### Temperature: 2.0\n",
            "Zvezda juri ugovor uz rame! VIDEO verovati iz kreveta vremena...\n",
            "Pogledajte sve što će uraditi u je ( VIDEO ) se videti\n",
            "On se javno ponaša u društvu ljubavi za Delije ( KURIR VIDEO )\n",
            "Tramp traži zahtev budućnosti saradnje Putina sa EU ( VIDEO / UŽIVO FOTO )\n",
            "su joj kao novac ako im pomognu život sve mogu! ( UZNEMIRUJUĆE FOTOGRAFIJE )\n"
          ],
          "name": "stdout"
        }
      ]
    }
  ]
}